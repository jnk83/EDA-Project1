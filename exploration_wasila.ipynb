{
 "cells": [
  {
   "cell_type": "code",
   "execution_count": 1,
   "metadata": {},
   "outputs": [],
   "source": [
    "import numpy as np\n",
    "import pandas as pd\n",
    "import matplotlib.pyplot as plt\n",
    "%matplotlib inline"
   ]
  },
  {
   "cell_type": "code",
   "execution_count": 2,
   "metadata": {},
   "outputs": [],
   "source": [
    "#April 2019 data\n",
    "\n",
    "wk1 = 'http://web.mta.info/developers/data/nyct/turnstile/turnstile_190406.txt'\n",
    "wk2 = 'http://web.mta.info/developers/data/nyct/turnstile/turnstile_190413.txt'\n",
    "wk3 = 'http://web.mta.info/developers/data/nyct/turnstile/turnstile_190420.txt'\n",
    "wk4 = 'http://web.mta.info/developers/data/nyct/turnstile/turnstile_190427.txt'\n",
    "\n",
    "df1 = pd.read_csv(wk1)\n",
    "df2 = pd.read_csv(wk2)\n",
    "df3 = pd.read_csv(wk3)\n",
    "df4 = pd.read_csv(wk4)\n",
    "\n",
    "df = pd.concat([df1,df2,df3,df4])"
   ]
  },
  {
   "cell_type": "code",
   "execution_count": 3,
   "metadata": {
    "scrolled": true
   },
   "outputs": [
    {
     "name": "stdout",
     "output_type": "stream",
     "text": [
      "<class 'pandas.core.frame.DataFrame'>\n",
      "Int64Index: 814079 entries, 0 to 203856\n",
      "Data columns (total 11 columns):\n",
      " #   Column                                                                Non-Null Count   Dtype \n",
      "---  ------                                                                --------------   ----- \n",
      " 0   C/A                                                                   814079 non-null  object\n",
      " 1   UNIT                                                                  814079 non-null  object\n",
      " 2   SCP                                                                   814079 non-null  object\n",
      " 3   STATION                                                               814079 non-null  object\n",
      " 4   LINENAME                                                              814079 non-null  object\n",
      " 5   DIVISION                                                              814079 non-null  object\n",
      " 6   DATE                                                                  814079 non-null  object\n",
      " 7   TIME                                                                  814079 non-null  object\n",
      " 8   DESC                                                                  814079 non-null  object\n",
      " 9   ENTRIES                                                               814079 non-null  int64 \n",
      " 10  EXITS                                                                 814079 non-null  int64 \n",
      "dtypes: int64(2), object(9)\n",
      "memory usage: 74.5+ MB\n"
     ]
    }
   ],
   "source": [
    "df.info()"
   ]
  },
  {
   "cell_type": "code",
   "execution_count": 42,
   "metadata": {
    "scrolled": true
   },
   "outputs": [],
   "source": [
    "df.rename(columns = {'EXITS                                                               ':'EXITS'}, inplace = True)"
   ]
  },
  {
   "cell_type": "code",
   "execution_count": 41,
   "metadata": {},
   "outputs": [
    {
     "data": {
      "text/plain": [
       "Index(['C/A', 'UNIT', 'SCP', 'STATION', 'LINENAME', 'DIVISION', 'DATE', 'TIME',\n",
       "       'DESC', 'ENTRIES', 'EXITS'],\n",
       "      dtype='object')"
      ]
     },
     "execution_count": 41,
     "metadata": {},
     "output_type": "execute_result"
    }
   ],
   "source": [
    "df.columns"
   ]
  },
  {
   "cell_type": "code",
   "execution_count": 4,
   "metadata": {},
   "outputs": [
    {
     "data": {
      "text/plain": [
       "array(['00:00:00', '04:00:00', '08:00:00', ..., '09:24:14', '08:10:13',\n",
       "       '10:03:24'], dtype=object)"
      ]
     },
     "execution_count": 4,
     "metadata": {},
     "output_type": "execute_result"
    }
   ],
   "source": [
    "df.TIME.unique()"
   ]
  },
  {
   "cell_type": "code",
   "execution_count": 44,
   "metadata": {},
   "outputs": [
    {
     "data": {
      "text/plain": [
       "array(['03/30/2019', '03/31/2019', '04/01/2019', '04/02/2019',\n",
       "       '04/03/2019', '04/04/2019', '04/05/2019', '04/06/2019',\n",
       "       '04/07/2019', '04/08/2019', '04/09/2019', '04/10/2019',\n",
       "       '04/11/2019', '04/12/2019', '04/13/2019', '04/14/2019',\n",
       "       '04/15/2019', '04/16/2019', '04/17/2019', '04/18/2019',\n",
       "       '04/19/2019', '04/20/2019', '04/21/2019', '04/22/2019',\n",
       "       '04/23/2019', '04/24/2019', '04/25/2019', '04/26/2019'],\n",
       "      dtype=object)"
      ]
     },
     "execution_count": 44,
     "metadata": {},
     "output_type": "execute_result"
    }
   ],
   "source": [
    "#confirm that data is recorded every 4 hours for every date within the data set\n",
    "\n",
    "std_df = df[(df['TIME'] == '00:00:00') | (df['TIME'] == '04:00:00')  | (df['TIME'] == '08:00:00') | \n",
    "    (df['TIME'] == '12:00:00') | (df['TIME'] == '16:00:00') | (df['TIME'] == '20:00:00')]\n",
    "\n",
    "date_arr = std_df['DATE'].unique()\n",
    "\n",
    "date_arr"
   ]
  },
  {
   "cell_type": "code",
   "execution_count": 16,
   "metadata": {},
   "outputs": [
    {
     "name": "stdout",
     "output_type": "stream",
     "text": [
      "<class 'pandas.core.frame.DataFrame'>\n",
      "Int64Index: 414360 entries, 0 to 203135\n",
      "Data columns (total 11 columns):\n",
      " #   Column                                                                Non-Null Count   Dtype \n",
      "---  ------                                                                --------------   ----- \n",
      " 0   C/A                                                                   414360 non-null  object\n",
      " 1   UNIT                                                                  414360 non-null  object\n",
      " 2   SCP                                                                   414360 non-null  object\n",
      " 3   STATION                                                               414360 non-null  object\n",
      " 4   LINENAME                                                              414360 non-null  object\n",
      " 5   DIVISION                                                              414360 non-null  object\n",
      " 6   DATE                                                                  414360 non-null  object\n",
      " 7   TIME                                                                  414360 non-null  object\n",
      " 8   DESC                                                                  414360 non-null  object\n",
      " 9   ENTRIES                                                               414360 non-null  int64 \n",
      " 10  EXITS                                                                 414360 non-null  int64 \n",
      "dtypes: int64(2), object(9)\n",
      "memory usage: 37.9+ MB\n"
     ]
    }
   ],
   "source": [
    "std_df.info()"
   ]
  },
  {
   "cell_type": "code",
   "execution_count": 45,
   "metadata": {},
   "outputs": [
    {
     "data": {
      "text/plain": [
       "0          NaN\n",
       "1          8.0\n",
       "2         46.0\n",
       "3         88.0\n",
       "4         71.0\n",
       "          ... \n",
       "203131     0.0\n",
       "203132     0.0\n",
       "203133     0.0\n",
       "203134     0.0\n",
       "203135     0.0\n",
       "Name: EXITS, Length: 414360, dtype: float64"
      ]
     },
     "execution_count": 45,
     "metadata": {},
     "output_type": "execute_result"
    }
   ],
   "source": [
    "#additional entries/exits made in the preceding 4 hours\n",
    "times_arr = std_df['TIME'].unique()\n",
    "\n",
    "#use apply or map??\n",
    "#https://stackoverflow.com/questions/37872565/reversed-cumulative-sum-of-a-column-in-pandas-dataframe\n",
    "\n",
    "std_df['ENTRIES'].diff()\n",
    "std_df['EXITS'].diff()"
   ]
  },
  {
   "cell_type": "code",
   "execution_count": null,
   "metadata": {},
   "outputs": [],
   "source": []
  }
 ],
 "metadata": {
  "kernelspec": {
   "display_name": "Python 3",
   "language": "python",
   "name": "python3"
  },
  "language_info": {
   "codemirror_mode": {
    "name": "ipython",
    "version": 3
   },
   "file_extension": ".py",
   "mimetype": "text/x-python",
   "name": "python",
   "nbconvert_exporter": "python",
   "pygments_lexer": "ipython3",
   "version": "3.7.6"
  }
 },
 "nbformat": 4,
 "nbformat_minor": 4
}
