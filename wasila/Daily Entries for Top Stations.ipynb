{
 "cells": [
  {
   "cell_type": "code",
   "execution_count": null,
   "metadata": {},
   "outputs": [],
   "source": [
    "#array of top 50 stations\n",
    "top_stations = entries_daily_new.groupby(['STATION','LINENAME']).sum().sort_values('DAILY_ENTRIES', ascending = False).head(50).index[0:50]\n",
    "\n",
    "top_stations"
   ]
  },
  {
   "cell_type": "code",
   "execution_count": null,
   "metadata": {},
   "outputs": [],
   "source": [
    "#plotting daily entries as a function of date for an individual station\n",
    "#dates showing out of order on x axis\n",
    "\n",
    "def plot_entries(station):\n",
    "    station_df = entries_daily_new[(entries_daily_new['STATION'] == top_stations[station][0]) & \n",
    "                  (entries_daily_new['LINENAME'] == top_stations[station][1])][['DATE','DAILY_ENTRIES']]\n",
    "    station_df.plot(x = 'DATE', y = 'DAILY_ENTRIES', figsize = (20,5), title = top_stations[station][0])"
   ]
  },
  {
   "cell_type": "code",
   "execution_count": null,
   "metadata": {},
   "outputs": [],
   "source": [
    "updated_top_stations = {}"
   ]
  }
 ],
 "metadata": {
  "kernelspec": {
   "display_name": "Python 3",
   "language": "python",
   "name": "python3"
  },
  "language_info": {
   "codemirror_mode": {
    "name": "ipython",
    "version": 3
   },
   "file_extension": ".py",
   "mimetype": "text/x-python",
   "name": "python",
   "nbconvert_exporter": "python",
   "pygments_lexer": "ipython3",
   "version": "3.7.6"
  }
 },
 "nbformat": 4,
 "nbformat_minor": 4
}
