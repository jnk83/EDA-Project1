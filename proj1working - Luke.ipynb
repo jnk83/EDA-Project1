{
 "cells": [
  {
   "cell_type": "markdown",
   "metadata": {},
   "source": [
    "# Importing the Data"
   ]
  },
  {
   "cell_type": "code",
   "execution_count": 1,
   "metadata": {},
   "outputs": [],
   "source": [
    "import pandas as pd\n",
    "import numpy as np\n",
    "import matplotlib.pyplot as plt\n",
    "\n",
    "%matplotlib inline\n",
    "\n",
    "import datetime\n",
    "\n"
   ]
  },
  {
   "cell_type": "code",
   "execution_count": 2,
   "metadata": {},
   "outputs": [],
   "source": [
    "# Source: http://web.mta.info/developers/turnstile.html\n",
    "def get_data_parse_dt(week_nums):\n",
    "    url = \"http://web.mta.info/developers/data/nyct/turnstile/turnstile_{}.txt\"\n",
    "    dfs = []\n",
    "    for week_num in week_nums:\n",
    "        file_url = url.format(week_num)\n",
    "        dfs.append(pd.read_csv(file_url, parse_dates=[['DATE','TIME']], keep_date_col=True))\n",
    "    return pd.concat(dfs)\n",
    "        \n",
    "week_nums = [190601, 190608, 190615]\n",
    "turnstiles_df = get_data_parse_dt(week_nums)"
   ]
  },
  {
   "cell_type": "code",
   "execution_count": 3,
   "metadata": {},
   "outputs": [],
   "source": [
    "turnstiles_df.columns = [column.strip() for column in turnstiles_df.columns]"
   ]
  },
  {
   "cell_type": "code",
   "execution_count": 4,
   "metadata": {},
   "outputs": [
    {
     "data": {
      "text/plain": [
       "05/25/2019    28855\n",
       "05/26/2019    29063\n",
       "05/27/2019    29068\n",
       "05/28/2019    28873\n",
       "05/29/2019    29095\n",
       "05/30/2019    29190\n",
       "05/31/2019    29651\n",
       "06/01/2019    29066\n",
       "06/02/2019    28968\n",
       "06/03/2019    30022\n",
       "06/04/2019    29513\n",
       "06/05/2019    29484\n",
       "06/06/2019    29213\n",
       "06/07/2019    28745\n",
       "06/08/2019    29030\n",
       "06/09/2019    29133\n",
       "06/10/2019    29351\n",
       "06/11/2019    29113\n",
       "06/12/2019    30023\n",
       "06/13/2019    29276\n",
       "06/14/2019    29008\n",
       "Name: DATE, dtype: int64"
      ]
     },
     "execution_count": 4,
     "metadata": {},
     "output_type": "execute_result"
    }
   ],
   "source": [
    "turnstiles_df.DATE.value_counts().sort_index()"
   ]
  },
  {
   "cell_type": "code",
   "execution_count": 5,
   "metadata": {},
   "outputs": [],
   "source": [
    "from datetime import datetime as dt"
   ]
  },
  {
   "cell_type": "code",
   "execution_count": 6,
   "metadata": {},
   "outputs": [],
   "source": [
    "# mask = ((turnstiles_df[\"C/A\"] == \"A002\") &\n",
    "#         (turnstiles_df[\"UNIT\"] == \"R051\") & \n",
    "#         (turnstiles_df[\"SCP\"] == \"02-00-00\") & \n",
    "#         (turnstiles_df[\"STATION\"] == \"59 ST\"))\n",
    "# turnstiles_df[mask].head()"
   ]
  },
  {
   "cell_type": "code",
   "execution_count": 7,
   "metadata": {},
   "outputs": [
    {
     "data": {
      "text/html": [
       "<div>\n",
       "<style scoped>\n",
       "    .dataframe tbody tr th:only-of-type {\n",
       "        vertical-align: middle;\n",
       "    }\n",
       "\n",
       "    .dataframe tbody tr th {\n",
       "        vertical-align: top;\n",
       "    }\n",
       "\n",
       "    .dataframe thead th {\n",
       "        text-align: right;\n",
       "    }\n",
       "</style>\n",
       "<table border=\"1\" class=\"dataframe\">\n",
       "  <thead>\n",
       "    <tr style=\"text-align: right;\">\n",
       "      <th></th>\n",
       "      <th>C/A</th>\n",
       "      <th>UNIT</th>\n",
       "      <th>SCP</th>\n",
       "      <th>STATION</th>\n",
       "      <th>DATE_TIME</th>\n",
       "      <th>ENTRIES</th>\n",
       "    </tr>\n",
       "  </thead>\n",
       "  <tbody>\n",
       "    <tr>\n",
       "      <th>145002</th>\n",
       "      <td>N045</td>\n",
       "      <td>R187</td>\n",
       "      <td>01-06-00</td>\n",
       "      <td>81 ST-MUSEUM</td>\n",
       "      <td>2019-06-02 17:00:00</td>\n",
       "      <td>2</td>\n",
       "    </tr>\n",
       "    <tr>\n",
       "      <th>144620</th>\n",
       "      <td>N045</td>\n",
       "      <td>R187</td>\n",
       "      <td>01-00-00</td>\n",
       "      <td>81 ST-MUSEUM</td>\n",
       "      <td>2019-06-01 17:00:00</td>\n",
       "      <td>2</td>\n",
       "    </tr>\n",
       "    <tr>\n",
       "      <th>144871</th>\n",
       "      <td>N045</td>\n",
       "      <td>R187</td>\n",
       "      <td>01-00-02</td>\n",
       "      <td>81 ST-MUSEUM</td>\n",
       "      <td>2019-06-01 17:00:00</td>\n",
       "      <td>2</td>\n",
       "    </tr>\n",
       "    <tr>\n",
       "      <th>434865</th>\n",
       "      <td>R174</td>\n",
       "      <td>R034</td>\n",
       "      <td>00-00-02</td>\n",
       "      <td>125 ST</td>\n",
       "      <td>2019-06-08 00:00:00</td>\n",
       "      <td>2</td>\n",
       "    </tr>\n",
       "    <tr>\n",
       "      <th>144746</th>\n",
       "      <td>N045</td>\n",
       "      <td>R187</td>\n",
       "      <td>01-00-01</td>\n",
       "      <td>81 ST-MUSEUM</td>\n",
       "      <td>2019-06-01 17:00:00</td>\n",
       "      <td>2</td>\n",
       "    </tr>\n",
       "  </tbody>\n",
       "</table>\n",
       "</div>"
      ],
      "text/plain": [
       "         C/A  UNIT       SCP       STATION           DATE_TIME  ENTRIES\n",
       "145002  N045  R187  01-06-00  81 ST-MUSEUM 2019-06-02 17:00:00        2\n",
       "144620  N045  R187  01-00-00  81 ST-MUSEUM 2019-06-01 17:00:00        2\n",
       "144871  N045  R187  01-00-02  81 ST-MUSEUM 2019-06-01 17:00:00        2\n",
       "434865  R174  R034  00-00-02        125 ST 2019-06-08 00:00:00        2\n",
       "144746  N045  R187  01-00-01  81 ST-MUSEUM 2019-06-01 17:00:00        2"
      ]
     },
     "execution_count": 7,
     "metadata": {},
     "output_type": "execute_result"
    }
   ],
   "source": [
    "(turnstiles_df\n",
    " .groupby([\"C/A\", \"UNIT\", \"SCP\", \"STATION\", \"DATE_TIME\"])\n",
    " .ENTRIES.count()\n",
    " .reset_index()\n",
    " .sort_values(\"ENTRIES\", ascending=False)).head(5)"
   ]
  },
  {
   "cell_type": "code",
   "execution_count": 8,
   "metadata": {},
   "outputs": [
    {
     "data": {
      "text/plain": [
       "REGULAR       611516\n",
       "RECOVR AUD      2224\n",
       "Name: DESC, dtype: int64"
      ]
     },
     "execution_count": 8,
     "metadata": {},
     "output_type": "execute_result"
    }
   ],
   "source": [
    "turnstiles_df.DESC.value_counts()"
   ]
  },
  {
   "cell_type": "code",
   "execution_count": 9,
   "metadata": {},
   "outputs": [],
   "source": [
    "turnstiles_df.sort_values([\"C/A\", \"UNIT\", \"SCP\", \"STATION\", \"DATE_TIME\"], \n",
    "                          inplace=True, ascending=False)\n",
    "turnstiles_df.drop_duplicates(subset=[\"C/A\", \"UNIT\", \"SCP\", \"STATION\", \"DATE_TIME\"], inplace=True)"
   ]
  },
  {
   "cell_type": "code",
   "execution_count": 10,
   "metadata": {},
   "outputs": [
    {
     "data": {
      "text/html": [
       "<div>\n",
       "<style scoped>\n",
       "    .dataframe tbody tr th:only-of-type {\n",
       "        vertical-align: middle;\n",
       "    }\n",
       "\n",
       "    .dataframe tbody tr th {\n",
       "        vertical-align: top;\n",
       "    }\n",
       "\n",
       "    .dataframe thead th {\n",
       "        text-align: right;\n",
       "    }\n",
       "</style>\n",
       "<table border=\"1\" class=\"dataframe\">\n",
       "  <thead>\n",
       "    <tr style=\"text-align: right;\">\n",
       "      <th></th>\n",
       "      <th>C/A</th>\n",
       "      <th>UNIT</th>\n",
       "      <th>SCP</th>\n",
       "      <th>STATION</th>\n",
       "      <th>DATE_TIME</th>\n",
       "      <th>ENTRIES</th>\n",
       "    </tr>\n",
       "  </thead>\n",
       "  <tbody>\n",
       "    <tr>\n",
       "      <th>0</th>\n",
       "      <td>A002</td>\n",
       "      <td>R051</td>\n",
       "      <td>02-00-00</td>\n",
       "      <td>59 ST</td>\n",
       "      <td>2019-05-25 00:00:00</td>\n",
       "      <td>1</td>\n",
       "    </tr>\n",
       "    <tr>\n",
       "      <th>409147</th>\n",
       "      <td>R139</td>\n",
       "      <td>R031</td>\n",
       "      <td>04-00-01</td>\n",
       "      <td>34 ST-PENN STA</td>\n",
       "      <td>2019-06-02 08:00:00</td>\n",
       "      <td>1</td>\n",
       "    </tr>\n",
       "    <tr>\n",
       "      <th>409149</th>\n",
       "      <td>R139</td>\n",
       "      <td>R031</td>\n",
       "      <td>04-00-01</td>\n",
       "      <td>34 ST-PENN STA</td>\n",
       "      <td>2019-06-02 16:00:00</td>\n",
       "      <td>1</td>\n",
       "    </tr>\n",
       "    <tr>\n",
       "      <th>409150</th>\n",
       "      <td>R139</td>\n",
       "      <td>R031</td>\n",
       "      <td>04-00-01</td>\n",
       "      <td>34 ST-PENN STA</td>\n",
       "      <td>2019-06-02 20:00:00</td>\n",
       "      <td>1</td>\n",
       "    </tr>\n",
       "    <tr>\n",
       "      <th>409151</th>\n",
       "      <td>R139</td>\n",
       "      <td>R031</td>\n",
       "      <td>04-00-01</td>\n",
       "      <td>34 ST-PENN STA</td>\n",
       "      <td>2019-06-03 00:00:00</td>\n",
       "      <td>1</td>\n",
       "    </tr>\n",
       "  </tbody>\n",
       "</table>\n",
       "</div>"
      ],
      "text/plain": [
       "         C/A  UNIT       SCP         STATION           DATE_TIME  ENTRIES\n",
       "0       A002  R051  02-00-00           59 ST 2019-05-25 00:00:00        1\n",
       "409147  R139  R031  04-00-01  34 ST-PENN STA 2019-06-02 08:00:00        1\n",
       "409149  R139  R031  04-00-01  34 ST-PENN STA 2019-06-02 16:00:00        1\n",
       "409150  R139  R031  04-00-01  34 ST-PENN STA 2019-06-02 20:00:00        1\n",
       "409151  R139  R031  04-00-01  34 ST-PENN STA 2019-06-03 00:00:00        1"
      ]
     },
     "execution_count": 10,
     "metadata": {},
     "output_type": "execute_result"
    }
   ],
   "source": [
    "(turnstiles_df\n",
    " .groupby([\"C/A\", \"UNIT\", \"SCP\", \"STATION\", \"DATE_TIME\"])\n",
    " .ENTRIES.count()\n",
    " .reset_index()\n",
    " .sort_values(\"ENTRIES\", ascending=False)).head(5)"
   ]
  },
  {
   "cell_type": "code",
   "execution_count": 11,
   "metadata": {},
   "outputs": [],
   "source": [
    "# Drop Exits and Desc Column.  To prevent errors in multiple run of cell, errors on drop is ignored\n",
    "entries_df = turnstiles_df.drop([\"EXITS\", \"DESC\"], axis=1, errors=\"ignore\")"
   ]
  },
  {
   "cell_type": "code",
   "execution_count": 12,
   "metadata": {},
   "outputs": [],
   "source": [
    "entries_daily = (entries_df\n",
    "                        .groupby([\"C/A\", \"UNIT\", \"SCP\", \"STATION\", \"DATE\"],as_index=False)\n",
    "                        .ENTRIES.first())"
   ]
  },
  {
   "cell_type": "code",
   "execution_count": 13,
   "metadata": {},
   "outputs": [
    {
     "data": {
      "text/html": [
       "<div>\n",
       "<style scoped>\n",
       "    .dataframe tbody tr th:only-of-type {\n",
       "        vertical-align: middle;\n",
       "    }\n",
       "\n",
       "    .dataframe tbody tr th {\n",
       "        vertical-align: top;\n",
       "    }\n",
       "\n",
       "    .dataframe thead th {\n",
       "        text-align: right;\n",
       "    }\n",
       "</style>\n",
       "<table border=\"1\" class=\"dataframe\">\n",
       "  <thead>\n",
       "    <tr style=\"text-align: right;\">\n",
       "      <th></th>\n",
       "      <th>C/A</th>\n",
       "      <th>UNIT</th>\n",
       "      <th>SCP</th>\n",
       "      <th>STATION</th>\n",
       "      <th>DATE</th>\n",
       "      <th>ENTRIES</th>\n",
       "    </tr>\n",
       "  </thead>\n",
       "  <tbody>\n",
       "    <tr>\n",
       "      <th>0</th>\n",
       "      <td>A002</td>\n",
       "      <td>R051</td>\n",
       "      <td>02-00-00</td>\n",
       "      <td>59 ST</td>\n",
       "      <td>05/25/2019</td>\n",
       "      <td>7072456</td>\n",
       "    </tr>\n",
       "    <tr>\n",
       "      <th>1</th>\n",
       "      <td>A002</td>\n",
       "      <td>R051</td>\n",
       "      <td>02-00-00</td>\n",
       "      <td>59 ST</td>\n",
       "      <td>05/26/2019</td>\n",
       "      <td>7073114</td>\n",
       "    </tr>\n",
       "    <tr>\n",
       "      <th>2</th>\n",
       "      <td>A002</td>\n",
       "      <td>R051</td>\n",
       "      <td>02-00-00</td>\n",
       "      <td>59 ST</td>\n",
       "      <td>05/27/2019</td>\n",
       "      <td>7073837</td>\n",
       "    </tr>\n",
       "    <tr>\n",
       "      <th>3</th>\n",
       "      <td>A002</td>\n",
       "      <td>R051</td>\n",
       "      <td>02-00-00</td>\n",
       "      <td>59 ST</td>\n",
       "      <td>05/28/2019</td>\n",
       "      <td>7075260</td>\n",
       "    </tr>\n",
       "    <tr>\n",
       "      <th>4</th>\n",
       "      <td>A002</td>\n",
       "      <td>R051</td>\n",
       "      <td>02-00-00</td>\n",
       "      <td>59 ST</td>\n",
       "      <td>05/29/2019</td>\n",
       "      <td>7076789</td>\n",
       "    </tr>\n",
       "  </tbody>\n",
       "</table>\n",
       "</div>"
      ],
      "text/plain": [
       "    C/A  UNIT       SCP STATION        DATE  ENTRIES\n",
       "0  A002  R051  02-00-00   59 ST  05/25/2019  7072456\n",
       "1  A002  R051  02-00-00   59 ST  05/26/2019  7073114\n",
       "2  A002  R051  02-00-00   59 ST  05/27/2019  7073837\n",
       "3  A002  R051  02-00-00   59 ST  05/28/2019  7075260\n",
       "4  A002  R051  02-00-00   59 ST  05/29/2019  7076789"
      ]
     },
     "execution_count": 13,
     "metadata": {},
     "output_type": "execute_result"
    }
   ],
   "source": [
    "entries_daily.head()"
   ]
  },
  {
   "cell_type": "code",
   "execution_count": 14,
   "metadata": {},
   "outputs": [
    {
     "name": "stderr",
     "output_type": "stream",
     "text": [
      "/home/luke/miniconda3/envs/metis/lib/python3.7/site-packages/ipykernel_launcher.py:2: FutureWarning: Indexing with multiple keys (implicitly converted to a tuple of keys) will be deprecated, use a list instead.\n",
      "  \n"
     ]
    }
   ],
   "source": [
    "entries_daily[[\"PREV_DATE\", \"PREV_ENTRIES\"]] = (entries_daily\n",
    "                                                       .groupby([\"C/A\", \"UNIT\", \"SCP\", \"STATION\"])[\"DATE\", \"ENTRIES\"]\n",
    "                                                       .apply(lambda grp: grp.shift(1)))"
   ]
  },
  {
   "cell_type": "code",
   "execution_count": 15,
   "metadata": {},
   "outputs": [],
   "source": [
    "# Drop the rows for the earliest date in the df\n",
    "entries_daily.dropna(subset=[\"PREV_DATE\"], axis=0, inplace=True)"
   ]
  },
  {
   "cell_type": "code",
   "execution_count": 16,
   "metadata": {},
   "outputs": [
    {
     "data": {
      "text/html": [
       "<div>\n",
       "<style scoped>\n",
       "    .dataframe tbody tr th:only-of-type {\n",
       "        vertical-align: middle;\n",
       "    }\n",
       "\n",
       "    .dataframe tbody tr th {\n",
       "        vertical-align: top;\n",
       "    }\n",
       "\n",
       "    .dataframe thead th {\n",
       "        text-align: right;\n",
       "    }\n",
       "</style>\n",
       "<table border=\"1\" class=\"dataframe\">\n",
       "  <thead>\n",
       "    <tr style=\"text-align: right;\">\n",
       "      <th></th>\n",
       "      <th>C/A</th>\n",
       "      <th>UNIT</th>\n",
       "      <th>SCP</th>\n",
       "      <th>STATION</th>\n",
       "      <th>DATE</th>\n",
       "      <th>ENTRIES</th>\n",
       "      <th>PREV_DATE</th>\n",
       "      <th>PREV_ENTRIES</th>\n",
       "    </tr>\n",
       "  </thead>\n",
       "  <tbody>\n",
       "    <tr>\n",
       "      <th>1618</th>\n",
       "      <td>A025</td>\n",
       "      <td>R023</td>\n",
       "      <td>01-03-01</td>\n",
       "      <td>34 ST-HERALD SQ</td>\n",
       "      <td>05/26/2019</td>\n",
       "      <td>1238366337</td>\n",
       "      <td>05/25/2019</td>\n",
       "      <td>1.238369e+09</td>\n",
       "    </tr>\n",
       "    <tr>\n",
       "      <th>1619</th>\n",
       "      <td>A025</td>\n",
       "      <td>R023</td>\n",
       "      <td>01-03-01</td>\n",
       "      <td>34 ST-HERALD SQ</td>\n",
       "      <td>05/27/2019</td>\n",
       "      <td>1238364310</td>\n",
       "      <td>05/26/2019</td>\n",
       "      <td>1.238366e+09</td>\n",
       "    </tr>\n",
       "    <tr>\n",
       "      <th>1620</th>\n",
       "      <td>A025</td>\n",
       "      <td>R023</td>\n",
       "      <td>01-03-01</td>\n",
       "      <td>34 ST-HERALD SQ</td>\n",
       "      <td>05/28/2019</td>\n",
       "      <td>1238360334</td>\n",
       "      <td>05/27/2019</td>\n",
       "      <td>1.238364e+09</td>\n",
       "    </tr>\n",
       "    <tr>\n",
       "      <th>1621</th>\n",
       "      <td>A025</td>\n",
       "      <td>R023</td>\n",
       "      <td>01-03-01</td>\n",
       "      <td>34 ST-HERALD SQ</td>\n",
       "      <td>05/29/2019</td>\n",
       "      <td>1238356306</td>\n",
       "      <td>05/28/2019</td>\n",
       "      <td>1.238360e+09</td>\n",
       "    </tr>\n",
       "    <tr>\n",
       "      <th>1622</th>\n",
       "      <td>A025</td>\n",
       "      <td>R023</td>\n",
       "      <td>01-03-01</td>\n",
       "      <td>34 ST-HERALD SQ</td>\n",
       "      <td>05/30/2019</td>\n",
       "      <td>1238352363</td>\n",
       "      <td>05/29/2019</td>\n",
       "      <td>1.238356e+09</td>\n",
       "    </tr>\n",
       "  </tbody>\n",
       "</table>\n",
       "</div>"
      ],
      "text/plain": [
       "       C/A  UNIT       SCP          STATION        DATE     ENTRIES  \\\n",
       "1618  A025  R023  01-03-01  34 ST-HERALD SQ  05/26/2019  1238366337   \n",
       "1619  A025  R023  01-03-01  34 ST-HERALD SQ  05/27/2019  1238364310   \n",
       "1620  A025  R023  01-03-01  34 ST-HERALD SQ  05/28/2019  1238360334   \n",
       "1621  A025  R023  01-03-01  34 ST-HERALD SQ  05/29/2019  1238356306   \n",
       "1622  A025  R023  01-03-01  34 ST-HERALD SQ  05/30/2019  1238352363   \n",
       "\n",
       "       PREV_DATE  PREV_ENTRIES  \n",
       "1618  05/25/2019  1.238369e+09  \n",
       "1619  05/26/2019  1.238366e+09  \n",
       "1620  05/27/2019  1.238364e+09  \n",
       "1621  05/28/2019  1.238360e+09  \n",
       "1622  05/29/2019  1.238356e+09  "
      ]
     },
     "execution_count": 16,
     "metadata": {},
     "output_type": "execute_result"
    }
   ],
   "source": [
    "entries_daily[entries_daily[\"ENTRIES\"] < entries_daily[\"PREV_ENTRIES\"]].head()"
   ]
  },
  {
   "cell_type": "code",
   "execution_count": 17,
   "metadata": {},
   "outputs": [
    {
     "data": {
      "text/html": [
       "<div>\n",
       "<style scoped>\n",
       "    .dataframe tbody tr th:only-of-type {\n",
       "        vertical-align: middle;\n",
       "    }\n",
       "\n",
       "    .dataframe tbody tr th {\n",
       "        vertical-align: top;\n",
       "    }\n",
       "\n",
       "    .dataframe thead th {\n",
       "        text-align: right;\n",
       "    }\n",
       "</style>\n",
       "<table border=\"1\" class=\"dataframe\">\n",
       "  <thead>\n",
       "    <tr style=\"text-align: right;\">\n",
       "      <th></th>\n",
       "      <th>DATE_TIME</th>\n",
       "      <th>C/A</th>\n",
       "      <th>UNIT</th>\n",
       "      <th>SCP</th>\n",
       "      <th>STATION</th>\n",
       "      <th>LINENAME</th>\n",
       "      <th>DIVISION</th>\n",
       "      <th>DATE</th>\n",
       "      <th>TIME</th>\n",
       "      <th>ENTRIES</th>\n",
       "    </tr>\n",
       "  </thead>\n",
       "  <tbody>\n",
       "    <tr>\n",
       "      <th>3269</th>\n",
       "      <td>2019-05-26 20:00:00</td>\n",
       "      <td>A025</td>\n",
       "      <td>R023</td>\n",
       "      <td>01-03-01</td>\n",
       "      <td>34 ST-HERALD SQ</td>\n",
       "      <td>BDFMNQRW</td>\n",
       "      <td>BMT</td>\n",
       "      <td>05/26/2019</td>\n",
       "      <td>20:00:00</td>\n",
       "      <td>1238366337</td>\n",
       "    </tr>\n",
       "    <tr>\n",
       "      <th>3268</th>\n",
       "      <td>2019-05-26 16:00:00</td>\n",
       "      <td>A025</td>\n",
       "      <td>R023</td>\n",
       "      <td>01-03-01</td>\n",
       "      <td>34 ST-HERALD SQ</td>\n",
       "      <td>BDFMNQRW</td>\n",
       "      <td>BMT</td>\n",
       "      <td>05/26/2019</td>\n",
       "      <td>16:00:00</td>\n",
       "      <td>1238366929</td>\n",
       "    </tr>\n",
       "    <tr>\n",
       "      <th>3267</th>\n",
       "      <td>2019-05-26 12:00:00</td>\n",
       "      <td>A025</td>\n",
       "      <td>R023</td>\n",
       "      <td>01-03-01</td>\n",
       "      <td>34 ST-HERALD SQ</td>\n",
       "      <td>BDFMNQRW</td>\n",
       "      <td>BMT</td>\n",
       "      <td>05/26/2019</td>\n",
       "      <td>12:00:00</td>\n",
       "      <td>1238367347</td>\n",
       "    </tr>\n",
       "    <tr>\n",
       "      <th>3266</th>\n",
       "      <td>2019-05-26 08:00:00</td>\n",
       "      <td>A025</td>\n",
       "      <td>R023</td>\n",
       "      <td>01-03-01</td>\n",
       "      <td>34 ST-HERALD SQ</td>\n",
       "      <td>BDFMNQRW</td>\n",
       "      <td>BMT</td>\n",
       "      <td>05/26/2019</td>\n",
       "      <td>08:00:00</td>\n",
       "      <td>1238367539</td>\n",
       "    </tr>\n",
       "    <tr>\n",
       "      <th>3265</th>\n",
       "      <td>2019-05-26 04:00:00</td>\n",
       "      <td>A025</td>\n",
       "      <td>R023</td>\n",
       "      <td>01-03-01</td>\n",
       "      <td>34 ST-HERALD SQ</td>\n",
       "      <td>BDFMNQRW</td>\n",
       "      <td>BMT</td>\n",
       "      <td>05/26/2019</td>\n",
       "      <td>04:00:00</td>\n",
       "      <td>1238367622</td>\n",
       "    </tr>\n",
       "  </tbody>\n",
       "</table>\n",
       "</div>"
      ],
      "text/plain": [
       "               DATE_TIME   C/A  UNIT       SCP          STATION  LINENAME  \\\n",
       "3269 2019-05-26 20:00:00  A025  R023  01-03-01  34 ST-HERALD SQ  BDFMNQRW   \n",
       "3268 2019-05-26 16:00:00  A025  R023  01-03-01  34 ST-HERALD SQ  BDFMNQRW   \n",
       "3267 2019-05-26 12:00:00  A025  R023  01-03-01  34 ST-HERALD SQ  BDFMNQRW   \n",
       "3266 2019-05-26 08:00:00  A025  R023  01-03-01  34 ST-HERALD SQ  BDFMNQRW   \n",
       "3265 2019-05-26 04:00:00  A025  R023  01-03-01  34 ST-HERALD SQ  BDFMNQRW   \n",
       "\n",
       "     DIVISION        DATE      TIME     ENTRIES  \n",
       "3269      BMT  05/26/2019  20:00:00  1238366337  \n",
       "3268      BMT  05/26/2019  16:00:00  1238366929  \n",
       "3267      BMT  05/26/2019  12:00:00  1238367347  \n",
       "3266      BMT  05/26/2019  08:00:00  1238367539  \n",
       "3265      BMT  05/26/2019  04:00:00  1238367622  "
      ]
     },
     "execution_count": 17,
     "metadata": {},
     "output_type": "execute_result"
    }
   ],
   "source": [
    "# What's the deal with counter being in reverse\n",
    "mask = ((entries_df[\"C/A\"] == \"A025\") & \n",
    "(entries_df[\"UNIT\"] == \"R023\") & \n",
    "(entries_df[\"SCP\"] == \"01-03-01\") & \n",
    "(entries_df[\"STATION\"] == \"34 ST-HERALD SQ\") &\n",
    "(entries_df[\"DATE_TIME\"].dt.date == datetime.datetime(2019, 5, 26).date()))\n",
    "entries_df[mask].head()"
   ]
  },
  {
   "cell_type": "code",
   "execution_count": 18,
   "metadata": {},
   "outputs": [
    {
     "data": {
      "text/plain": [
       "C/A   UNIT  SCP       STATION        \n",
       "A025  R023  01-03-01  34 ST-HERALD SQ    20\n",
       "A043  R462  00-06-00  CANAL ST            1\n",
       "A049  R088  02-05-00  CORTLANDT ST       18\n",
       "A066  R118  00-00-00  CANAL ST           20\n",
       "B020  R263  00-03-00  AVENUE H            1\n",
       "                                         ..\n",
       "R523  R147  00-00-04  61 ST WOODSIDE     20\n",
       "R621  R060  00-03-01  EASTN PKWY-MUSM     2\n",
       "R622  R123  00-00-00  FRANKLIN AV        20\n",
       "R646  R110  01-00-01  FLATBUSH AV-B.C    20\n",
       "R730  R431  00-00-04  EASTCHSTER/DYRE    20\n",
       "Length: 401, dtype: int64"
      ]
     },
     "execution_count": 18,
     "metadata": {},
     "output_type": "execute_result"
    }
   ],
   "source": [
    "# Let's see how many stations have this problem\n",
    "\n",
    "(entries_daily[entries_daily[\"ENTRIES\"] < entries_daily[\"PREV_ENTRIES\"]]\n",
    "    .groupby([\"C/A\", \"UNIT\", \"SCP\", \"STATION\"])\n",
    "    .size())"
   ]
  },
  {
   "cell_type": "code",
   "execution_count": 19,
   "metadata": {},
   "outputs": [
    {
     "name": "stdout",
     "output_type": "stream",
     "text": [
      "1376283 8703.0\n",
      "371 4317056.0\n",
      "1790 13967417.0\n",
      "221 7246254.0\n",
      "4050694 5902992.0\n",
      "7246468 4050451.0\n",
      "5571815 104607574.0\n",
      "459063 4526857.0\n",
      "228 1393341.0\n",
      "1828703861 9687851.0\n",
      "126 4086499.0\n",
      "1834 2588198.0\n",
      "149 1252883.0\n",
      "580 1650137.0\n",
      "820 1523029.0\n",
      "366 1047791.0\n",
      "840 1251816.0\n",
      "634 1572569.0\n",
      "857 3126422.0\n",
      "1113 1946726.0\n",
      "1057 1214910.0\n",
      "291 1309224.0\n",
      "1484 1063313.0\n",
      "1317 2409654.0\n",
      "1060 1093122.0\n",
      "1061 1461284.0\n",
      "1472 1054311.0\n",
      "1088 2725203.0\n",
      "2095 2041280.0\n",
      "1 1910177.0\n",
      "212 1003601.0\n",
      "531 3209791.0\n",
      "2452 1395536.0\n",
      "2094 2286050.0\n",
      "1958 1696178.0\n",
      "1977 1058528.0\n",
      "0 1078800.0\n",
      "2257 2792918.0\n",
      "14 1327005.0\n",
      "393281 1661809141.0\n",
      "323 7193764.0\n",
      "330 203977549.0\n",
      "452993419 1830432.0\n",
      "774 3000575.0\n",
      "183 1488278.0\n"
     ]
    }
   ],
   "source": [
    "def get_daily_counts(row, max_counter):\n",
    "    counter = row[\"ENTRIES\"] - row[\"PREV_ENTRIES\"]\n",
    "    if counter < 0:\n",
    "        # Maybe counter is reversed?\n",
    "        counter = -counter\n",
    "    if counter > max_counter:\n",
    "        # Maybe counter was reset to 0? \n",
    "        print(row[\"ENTRIES\"], row[\"PREV_ENTRIES\"])\n",
    "        counter = min(row[\"ENTRIES\"], row[\"PREV_ENTRIES\"])\n",
    "    if counter > max_counter:\n",
    "        # Check it again to make sure we're not still giving a counter that's too big\n",
    "        return 0\n",
    "    return counter\n",
    "\n",
    "# If counter is > 1Million, then the counter might have been reset.  \n",
    "# Just set it to zero as different counters have different cycle limits\n",
    "# It'd probably be a good idea to use a number even significantly smaller than 1 million as the limit!\n",
    "entries_daily[\"DAILY_ENTRIES\"] = entries_daily.apply(get_daily_counts, axis=1, max_counter=1000000)"
   ]
  },
  {
   "cell_type": "code",
   "execution_count": 85,
   "metadata": {},
   "outputs": [
    {
     "name": "stdout",
     "output_type": "stream",
     "text": [
      "1376283 8703.0\n",
      "371 4317056.0\n",
      "1790 13967417.0\n",
      "221 7246254.0\n",
      "4050694 5902992.0\n",
      "7246468 4050451.0\n",
      "5571815 104607574.0\n",
      "459063 4526857.0\n",
      "0 966871.0\n",
      "852339 658.0\n",
      "228 1393341.0\n",
      "1828703861 9687851.0\n",
      "126 4086499.0\n",
      "1834 2588198.0\n",
      "149 1252883.0\n",
      "216 728932.0\n",
      "553 883514.0\n",
      "580 1650137.0\n",
      "471 796882.0\n",
      "820 1523029.0\n",
      "375 936362.0\n",
      "366 1047791.0\n",
      "761 564967.0\n",
      "932 607519.0\n",
      "840 1251816.0\n",
      "634 1572569.0\n",
      "572 527380.0\n",
      "857 3126422.0\n",
      "1113 1946726.0\n",
      "1057 1214910.0\n",
      "1154 968173.0\n",
      "594 533833.0\n",
      "291 1309224.0\n",
      "215 778553.0\n",
      "89 556763.0\n",
      "1484 1063313.0\n",
      "1924 852022.0\n",
      "1317 2409654.0\n",
      "1060 1093122.0\n",
      "950 869016.0\n",
      "1 618239.0\n",
      "478 975675.0\n",
      "1061 1461284.0\n",
      "1472 1054311.0\n",
      "1088 2725203.0\n",
      "2095 2041280.0\n",
      "1 1910177.0\n",
      "212 1003601.0\n",
      "531 3209791.0\n",
      "2452 1395536.0\n",
      "2094 2286050.0\n",
      "238 733761.0\n",
      "1958 1696178.0\n",
      "1977 1058528.0\n",
      "2019 987950.0\n",
      "0 1078800.0\n",
      "2291 907453.0\n",
      "2257 2792918.0\n",
      "97 540908.0\n",
      "103 535011.0\n",
      "1692 558863.0\n",
      "1787 608348.0\n",
      "14 1327005.0\n",
      "393281 1661809141.0\n",
      "323 7193764.0\n",
      "330 203977549.0\n",
      "452993419 1830432.0\n",
      "774 3000575.0\n",
      "183 1488278.0\n"
     ]
    }
   ],
   "source": [
    "entries_daily[\"DAILY_ENTRIES\"] = entries_daily.apply(get_daily_counts, axis=1, max_counter=500000)"
   ]
  },
  {
   "cell_type": "code",
   "execution_count": 102,
   "metadata": {
    "scrolled": true
   },
   "outputs": [
    {
     "data": {
      "text/plain": [
       "C/A                    TRAM2\n",
       "UNIT                    R572\n",
       "SCP                 05-06-01\n",
       "STATION            ZEREGA AV\n",
       "DATE              06/14/2019\n",
       "ENTRIES           2129287230\n",
       "PREV_DATE         06/13/2019\n",
       "PREV_ENTRIES     2.12929e+09\n",
       "DAILY_ENTRIES         496176\n",
       "dtype: object"
      ]
     },
     "execution_count": 102,
     "metadata": {},
     "output_type": "execute_result"
    }
   ],
   "source": [
    "entries_daily.max()"
   ]
  },
  {
   "cell_type": "code",
   "execution_count": 87,
   "metadata": {
    "scrolled": true
   },
   "outputs": [
    {
     "data": {
      "text/plain": [
       "<matplotlib.axes._subplots.AxesSubplot at 0x7f607da07b10>"
      ]
     },
     "execution_count": 87,
     "metadata": {},
     "output_type": "execute_result"
    },
    {
     "data": {
      "image/png": "[encoded data removed]",
      "text/plain": [
       "<Figure size 432x288 with 1 Axes>"
      ]
     },
     "metadata": {
      "needs_background": "light"
     },
     "output_type": "display_data"
    }
   ],
   "source": [
    "entries_daily['DAILY_ENTRIES'].plot()"
   ]
  },
  {
   "cell_type": "code",
   "execution_count": 88,
   "metadata": {},
   "outputs": [
    {
     "data": {
      "text/html": [
       "<div>\n",
       "<style scoped>\n",
       "    .dataframe tbody tr th:only-of-type {\n",
       "        vertical-align: middle;\n",
       "    }\n",
       "\n",
       "    .dataframe tbody tr th {\n",
       "        vertical-align: top;\n",
       "    }\n",
       "\n",
       "    .dataframe thead th {\n",
       "        text-align: right;\n",
       "    }\n",
       "</style>\n",
       "<table border=\"1\" class=\"dataframe\">\n",
       "  <thead>\n",
       "    <tr style=\"text-align: right;\">\n",
       "      <th></th>\n",
       "      <th></th>\n",
       "      <th>ENTRIES</th>\n",
       "      <th>PREV_ENTRIES</th>\n",
       "      <th>DAILY_ENTRIES</th>\n",
       "    </tr>\n",
       "    <tr>\n",
       "      <th>DATE</th>\n",
       "      <th>STATION</th>\n",
       "      <th></th>\n",
       "      <th></th>\n",
       "      <th></th>\n",
       "    </tr>\n",
       "  </thead>\n",
       "  <tbody>\n",
       "    <tr>\n",
       "      <th>06/07/2019</th>\n",
       "      <th>JOURNAL SQUARE</th>\n",
       "      <td>9046</td>\n",
       "      <td>6.107889e+06</td>\n",
       "      <td>3567458.0</td>\n",
       "    </tr>\n",
       "    <tr>\n",
       "      <th>06/04/2019</th>\n",
       "      <th>PATH NEW WTC</th>\n",
       "      <td>136428</td>\n",
       "      <td>3.841291e+06</td>\n",
       "      <td>2584714.0</td>\n",
       "    </tr>\n",
       "    <tr>\n",
       "      <th>06/11/2019</th>\n",
       "      <th>LACKAWANNA</th>\n",
       "      <td>3684</td>\n",
       "      <td>3.400425e+06</td>\n",
       "      <td>2393564.0</td>\n",
       "    </tr>\n",
       "    <tr>\n",
       "      <th>06/10/2019</th>\n",
       "      <th>EXCHANGE PLACE</th>\n",
       "      <td>11564</td>\n",
       "      <td>1.108864e+07</td>\n",
       "      <td>2390720.0</td>\n",
       "    </tr>\n",
       "    <tr>\n",
       "      <th>06/05/2019</th>\n",
       "      <th>NEWARK BM BW</th>\n",
       "      <td>876669</td>\n",
       "      <td>3.751815e+06</td>\n",
       "      <td>2343498.0</td>\n",
       "    </tr>\n",
       "    <tr>\n",
       "      <th>06/11/2019</th>\n",
       "      <th>CITY / BUS</th>\n",
       "      <td>9279</td>\n",
       "      <td>3.361374e+06</td>\n",
       "      <td>2292696.0</td>\n",
       "    </tr>\n",
       "    <tr>\n",
       "      <th>06/06/2019</th>\n",
       "      <th>NEWARK C</th>\n",
       "      <td>109415</td>\n",
       "      <td>2.769246e+06</td>\n",
       "      <td>2125672.0</td>\n",
       "    </tr>\n",
       "    <tr>\n",
       "      <th>06/05/2019</th>\n",
       "      <th>NEWARK HW BMEBE</th>\n",
       "      <td>1881</td>\n",
       "      <td>2.933092e+06</td>\n",
       "      <td>1678638.0</td>\n",
       "    </tr>\n",
       "    <tr>\n",
       "      <th>06/06/2019</th>\n",
       "      <th>HARRISON</th>\n",
       "      <td>18777</td>\n",
       "      <td>2.329452e+06</td>\n",
       "      <td>1582537.0</td>\n",
       "    </tr>\n",
       "    <tr>\n",
       "      <th>05/31/2019</th>\n",
       "      <th>PATH NEW WTC</th>\n",
       "      <td>3261224</td>\n",
       "      <td>4.519349e+06</td>\n",
       "      <td>1327157.0</td>\n",
       "    </tr>\n",
       "    <tr>\n",
       "      <th>06/10/2019</th>\n",
       "      <th>GROVE STREET</th>\n",
       "      <td>18467</td>\n",
       "      <td>4.475276e+06</td>\n",
       "      <td>1217036.0</td>\n",
       "    </tr>\n",
       "    <tr>\n",
       "      <th>06/07/2019</th>\n",
       "      <th>GROVE STREET</th>\n",
       "      <td>4455026</td>\n",
       "      <td>5.417295e+06</td>\n",
       "      <td>992191.0</td>\n",
       "    </tr>\n",
       "    <tr>\n",
       "      <th>06/12/2019</th>\n",
       "      <th>THIRTY THIRD ST</th>\n",
       "      <td>21150</td>\n",
       "      <td>1.593867e+07</td>\n",
       "      <td>880994.0</td>\n",
       "    </tr>\n",
       "    <tr>\n",
       "      <th>06/06/2019</th>\n",
       "      <th>NEWARK BM BW</th>\n",
       "      <td>14801</td>\n",
       "      <td>8.411990e+05</td>\n",
       "      <td>850514.0</td>\n",
       "    </tr>\n",
       "    <tr>\n",
       "      <th>06/10/2019</th>\n",
       "      <th>PAVONIA/NEWPORT</th>\n",
       "      <td>6872</td>\n",
       "      <td>7.327375e+06</td>\n",
       "      <td>799470.0</td>\n",
       "    </tr>\n",
       "    <tr>\n",
       "      <th>06/05/2019</th>\n",
       "      <th>PATH NEW WTC</th>\n",
       "      <td>150457</td>\n",
       "      <td>7.131650e+05</td>\n",
       "      <td>685904.0</td>\n",
       "    </tr>\n",
       "    <tr>\n",
       "      <th>06/11/2019</th>\n",
       "      <th>14TH STREET</th>\n",
       "      <td>3130</td>\n",
       "      <td>2.238669e+06</td>\n",
       "      <td>642583.0</td>\n",
       "    </tr>\n",
       "    <tr>\n",
       "      <th>06/14/2019</th>\n",
       "      <th>23 ST</th>\n",
       "      <td>5652206808</td>\n",
       "      <td>5.656161e+09</td>\n",
       "      <td>577275.0</td>\n",
       "    </tr>\n",
       "    <tr>\n",
       "      <th>06/11/2019</th>\n",
       "      <th>TWENTY THIRD ST</th>\n",
       "      <td>6231</td>\n",
       "      <td>5.806125e+06</td>\n",
       "      <td>566342.0</td>\n",
       "    </tr>\n",
       "    <tr>\n",
       "      <th>06/05/2019</th>\n",
       "      <th>NEWARK HM HE</th>\n",
       "      <td>6068</td>\n",
       "      <td>5.616220e+05</td>\n",
       "      <td>555554.0</td>\n",
       "    </tr>\n",
       "  </tbody>\n",
       "</table>\n",
       "</div>"
      ],
      "text/plain": [
       "                               ENTRIES  PREV_ENTRIES  DAILY_ENTRIES\n",
       "DATE       STATION                                                 \n",
       "06/07/2019 JOURNAL SQUARE         9046  6.107889e+06      3567458.0\n",
       "06/04/2019 PATH NEW WTC         136428  3.841291e+06      2584714.0\n",
       "06/11/2019 LACKAWANNA             3684  3.400425e+06      2393564.0\n",
       "06/10/2019 EXCHANGE PLACE        11564  1.108864e+07      2390720.0\n",
       "06/05/2019 NEWARK BM BW         876669  3.751815e+06      2343498.0\n",
       "06/11/2019 CITY / BUS             9279  3.361374e+06      2292696.0\n",
       "06/06/2019 NEWARK C             109415  2.769246e+06      2125672.0\n",
       "06/05/2019 NEWARK HW BMEBE        1881  2.933092e+06      1678638.0\n",
       "06/06/2019 HARRISON              18777  2.329452e+06      1582537.0\n",
       "05/31/2019 PATH NEW WTC        3261224  4.519349e+06      1327157.0\n",
       "06/10/2019 GROVE STREET          18467  4.475276e+06      1217036.0\n",
       "06/07/2019 GROVE STREET        4455026  5.417295e+06       992191.0\n",
       "06/12/2019 THIRTY THIRD ST       21150  1.593867e+07       880994.0\n",
       "06/06/2019 NEWARK BM BW          14801  8.411990e+05       850514.0\n",
       "06/10/2019 PAVONIA/NEWPORT        6872  7.327375e+06       799470.0\n",
       "06/05/2019 PATH NEW WTC         150457  7.131650e+05       685904.0\n",
       "06/11/2019 14TH STREET            3130  2.238669e+06       642583.0\n",
       "06/14/2019 23 ST            5652206808  5.656161e+09       577275.0\n",
       "06/11/2019 TWENTY THIRD ST        6231  5.806125e+06       566342.0\n",
       "06/05/2019 NEWARK HM HE           6068  5.616220e+05       555554.0"
      ]
     },
     "execution_count": 88,
     "metadata": {},
     "output_type": "execute_result"
    }
   ],
   "source": [
    "entries_daily.groupby(['DATE', 'STATION']).sum().sort_values('DAILY_ENTRIES', ascending=False).head(20)"
   ]
  },
  {
   "cell_type": "code",
   "execution_count": 89,
   "metadata": {},
   "outputs": [
    {
     "data": {
      "text/html": [
       "<div>\n",
       "<style scoped>\n",
       "    .dataframe tbody tr th:only-of-type {\n",
       "        vertical-align: middle;\n",
       "    }\n",
       "\n",
       "    .dataframe tbody tr th {\n",
       "        vertical-align: top;\n",
       "    }\n",
       "\n",
       "    .dataframe thead th {\n",
       "        text-align: right;\n",
       "    }\n",
       "</style>\n",
       "<table border=\"1\" class=\"dataframe\">\n",
       "  <thead>\n",
       "    <tr style=\"text-align: right;\">\n",
       "      <th></th>\n",
       "      <th>ENTRIES</th>\n",
       "      <th>PREV_ENTRIES</th>\n",
       "      <th>DAILY_ENTRIES</th>\n",
       "    </tr>\n",
       "    <tr>\n",
       "      <th>STATION</th>\n",
       "      <th></th>\n",
       "      <th></th>\n",
       "      <th></th>\n",
       "    </tr>\n",
       "  </thead>\n",
       "  <tbody>\n",
       "    <tr>\n",
       "      <th>PATH NEW WTC</th>\n",
       "      <td>43474694</td>\n",
       "      <td>4.827053e+07</td>\n",
       "      <td>5337577.0</td>\n",
       "    </tr>\n",
       "    <tr>\n",
       "      <th>JOURNAL SQUARE</th>\n",
       "      <td>72604647</td>\n",
       "      <td>7.830807e+07</td>\n",
       "      <td>4035520.0</td>\n",
       "    </tr>\n",
       "    <tr>\n",
       "      <th>NEWARK BM BW</th>\n",
       "      <td>38348216</td>\n",
       "      <td>4.186904e+07</td>\n",
       "      <td>3444655.0</td>\n",
       "    </tr>\n",
       "    <tr>\n",
       "      <th>34 ST-PENN STA</th>\n",
       "      <td>76803550879</td>\n",
       "      <td>7.680085e+10</td>\n",
       "      <td>3153573.0</td>\n",
       "    </tr>\n",
       "    <tr>\n",
       "      <th>EXCHANGE PLACE</th>\n",
       "      <td>165528280</td>\n",
       "      <td>1.763902e+08</td>\n",
       "      <td>2717777.0</td>\n",
       "    </tr>\n",
       "    <tr>\n",
       "      <th>CITY / BUS</th>\n",
       "      <td>52958543</td>\n",
       "      <td>5.613584e+07</td>\n",
       "      <td>2674655.0</td>\n",
       "    </tr>\n",
       "    <tr>\n",
       "      <th>GRD CNTRL-42 ST</th>\n",
       "      <td>52053190060</td>\n",
       "      <td>5.205066e+10</td>\n",
       "      <td>2581983.0</td>\n",
       "    </tr>\n",
       "    <tr>\n",
       "      <th>LACKAWANNA</th>\n",
       "      <td>53363808</td>\n",
       "      <td>5.659939e+07</td>\n",
       "      <td>2554737.0</td>\n",
       "    </tr>\n",
       "    <tr>\n",
       "      <th>GROVE STREET</th>\n",
       "      <td>77386722</td>\n",
       "      <td>8.248863e+07</td>\n",
       "      <td>2543893.0</td>\n",
       "    </tr>\n",
       "    <tr>\n",
       "      <th>23 ST</th>\n",
       "      <td>113099961878</td>\n",
       "      <td>1.131021e+11</td>\n",
       "      <td>2422124.0</td>\n",
       "    </tr>\n",
       "    <tr>\n",
       "      <th>NEWARK C</th>\n",
       "      <td>30245015</td>\n",
       "      <td>3.289023e+07</td>\n",
       "      <td>2357286.0</td>\n",
       "    </tr>\n",
       "    <tr>\n",
       "      <th>34 ST-HERALD SQ</th>\n",
       "      <td>92342076547</td>\n",
       "      <td>9.234019e+10</td>\n",
       "      <td>2206544.0</td>\n",
       "    </tr>\n",
       "    <tr>\n",
       "      <th>CANAL ST</th>\n",
       "      <td>80989538125</td>\n",
       "      <td>8.098884e+10</td>\n",
       "      <td>1909617.0</td>\n",
       "    </tr>\n",
       "    <tr>\n",
       "      <th>FULTON ST</th>\n",
       "      <td>95793247953</td>\n",
       "      <td>9.579314e+10</td>\n",
       "      <td>1902819.0</td>\n",
       "    </tr>\n",
       "    <tr>\n",
       "      <th>TIMES SQ-42 ST</th>\n",
       "      <td>116548827542</td>\n",
       "      <td>1.165472e+11</td>\n",
       "      <td>1887520.0</td>\n",
       "    </tr>\n",
       "    <tr>\n",
       "      <th>42 ST-PORT AUTH</th>\n",
       "      <td>151819156558</td>\n",
       "      <td>1.519167e+11</td>\n",
       "      <td>1870167.0</td>\n",
       "    </tr>\n",
       "    <tr>\n",
       "      <th>14 ST-UNION SQ</th>\n",
       "      <td>14189450615</td>\n",
       "      <td>1.418766e+10</td>\n",
       "      <td>1786727.0</td>\n",
       "    </tr>\n",
       "    <tr>\n",
       "      <th>HARRISON</th>\n",
       "      <td>25474472</td>\n",
       "      <td>2.766220e+07</td>\n",
       "      <td>1740450.0</td>\n",
       "    </tr>\n",
       "    <tr>\n",
       "      <th>NEWARK HW BMEBE</th>\n",
       "      <td>29344214</td>\n",
       "      <td>3.221625e+07</td>\n",
       "      <td>1738511.0</td>\n",
       "    </tr>\n",
       "    <tr>\n",
       "      <th>86 ST</th>\n",
       "      <td>47809041213</td>\n",
       "      <td>4.780767e+10</td>\n",
       "      <td>1511560.0</td>\n",
       "    </tr>\n",
       "  </tbody>\n",
       "</table>\n",
       "</div>"
      ],
      "text/plain": [
       "                      ENTRIES  PREV_ENTRIES  DAILY_ENTRIES\n",
       "STATION                                                   \n",
       "PATH NEW WTC         43474694  4.827053e+07      5337577.0\n",
       "JOURNAL SQUARE       72604647  7.830807e+07      4035520.0\n",
       "NEWARK BM BW         38348216  4.186904e+07      3444655.0\n",
       "34 ST-PENN STA    76803550879  7.680085e+10      3153573.0\n",
       "EXCHANGE PLACE      165528280  1.763902e+08      2717777.0\n",
       "CITY / BUS           52958543  5.613584e+07      2674655.0\n",
       "GRD CNTRL-42 ST   52053190060  5.205066e+10      2581983.0\n",
       "LACKAWANNA           53363808  5.659939e+07      2554737.0\n",
       "GROVE STREET         77386722  8.248863e+07      2543893.0\n",
       "23 ST            113099961878  1.131021e+11      2422124.0\n",
       "NEWARK C             30245015  3.289023e+07      2357286.0\n",
       "34 ST-HERALD SQ   92342076547  9.234019e+10      2206544.0\n",
       "CANAL ST          80989538125  8.098884e+10      1909617.0\n",
       "FULTON ST         95793247953  9.579314e+10      1902819.0\n",
       "TIMES SQ-42 ST   116548827542  1.165472e+11      1887520.0\n",
       "42 ST-PORT AUTH  151819156558  1.519167e+11      1870167.0\n",
       "14 ST-UNION SQ    14189450615  1.418766e+10      1786727.0\n",
       "HARRISON             25474472  2.766220e+07      1740450.0\n",
       "NEWARK HW BMEBE      29344214  3.221625e+07      1738511.0\n",
       "86 ST             47809041213  4.780767e+10      1511560.0"
      ]
     },
     "execution_count": 89,
     "metadata": {},
     "output_type": "execute_result"
    }
   ],
   "source": [
    "entries_daily.groupby(['STATION']).sum().sort_values('DAILY_ENTRIES', ascending=False).head(20)"
   ]
  },
  {
   "cell_type": "code",
   "execution_count": 54,
   "metadata": {},
   "outputs": [],
   "source": [
    "import matplotlib.pyplot as plt\n",
    "import seaborn as sns\n",
    "sns.set()\n",
    "\n",
    "%matplotlib inline"
   ]
  },
  {
   "cell_type": "code",
   "execution_count": 90,
   "metadata": {
    "scrolled": true
   },
   "outputs": [
    {
     "data": {
      "text/plain": [
       "<matplotlib.axes._subplots.AxesSubplot at 0x7f607cc51d50>"
      ]
     },
     "execution_count": 90,
     "metadata": {},
     "output_type": "execute_result"
    },
    {
     "data": {
      "image/png": "[encoded data removed]",
      "text/plain": [
       "<Figure size 432x288 with 1 Axes>"
      ]
     },
     "metadata": {
      "needs_background": "light"
     },
     "output_type": "display_data"
    }
   ],
   "source": [
    "sns.distplot(entries_daily['DAILY_ENTRIES']\n",
    "             [entries_daily['DAILY_ENTRIES'] < 50000])"
   ]
  },
  {
   "cell_type": "code",
   "execution_count": 91,
   "metadata": {
    "scrolled": false
   },
   "outputs": [
    {
     "data": {
      "text/plain": [
       "<matplotlib.axes._subplots.AxesSubplot at 0x7f607d733390>"
      ]
     },
     "execution_count": 91,
     "metadata": {},
     "output_type": "execute_result"
    },
    {
     "data": {
      "image/png": "[encoded data removed]",
      "text/plain": [
       "<Figure size 432x288 with 1 Axes>"
      ]
     },
     "metadata": {
      "needs_background": "light"
     },
     "output_type": "display_data"
    }
   ],
   "source": [
    "sns.distplot(entries_daily['DAILY_ENTRIES']\n",
    "             [entries_daily['DAILY_ENTRIES'] > 50000])"
   ]
  },
  {
   "cell_type": "code",
   "execution_count": 92,
   "metadata": {
    "scrolled": true
   },
   "outputs": [
    {
     "data": {
      "text/html": [
       "<div>\n",
       "<style scoped>\n",
       "    .dataframe tbody tr th:only-of-type {\n",
       "        vertical-align: middle;\n",
       "    }\n",
       "\n",
       "    .dataframe tbody tr th {\n",
       "        vertical-align: top;\n",
       "    }\n",
       "\n",
       "    .dataframe thead th {\n",
       "        text-align: right;\n",
       "    }\n",
       "</style>\n",
       "<table border=\"1\" class=\"dataframe\">\n",
       "  <thead>\n",
       "    <tr style=\"text-align: right;\">\n",
       "      <th></th>\n",
       "      <th>STATION</th>\n",
       "      <th>DATE</th>\n",
       "      <th>DAILY_ENTRIES</th>\n",
       "    </tr>\n",
       "  </thead>\n",
       "  <tbody>\n",
       "    <tr>\n",
       "      <th>0</th>\n",
       "      <td>1 AV</td>\n",
       "      <td>05/26/2019</td>\n",
       "      <td>5172.0</td>\n",
       "    </tr>\n",
       "    <tr>\n",
       "      <th>1</th>\n",
       "      <td>1 AV</td>\n",
       "      <td>05/27/2019</td>\n",
       "      <td>4808.0</td>\n",
       "    </tr>\n",
       "    <tr>\n",
       "      <th>2</th>\n",
       "      <td>1 AV</td>\n",
       "      <td>05/28/2019</td>\n",
       "      <td>16825.0</td>\n",
       "    </tr>\n",
       "    <tr>\n",
       "      <th>3</th>\n",
       "      <td>1 AV</td>\n",
       "      <td>05/29/2019</td>\n",
       "      <td>18800.0</td>\n",
       "    </tr>\n",
       "    <tr>\n",
       "      <th>4</th>\n",
       "      <td>1 AV</td>\n",
       "      <td>05/30/2019</td>\n",
       "      <td>18948.0</td>\n",
       "    </tr>\n",
       "  </tbody>\n",
       "</table>\n",
       "</div>"
      ],
      "text/plain": [
       "  STATION        DATE  DAILY_ENTRIES\n",
       "0    1 AV  05/26/2019         5172.0\n",
       "1    1 AV  05/27/2019         4808.0\n",
       "2    1 AV  05/28/2019        16825.0\n",
       "3    1 AV  05/29/2019        18800.0\n",
       "4    1 AV  05/30/2019        18948.0"
      ]
     },
     "execution_count": 92,
     "metadata": {},
     "output_type": "execute_result"
    }
   ],
   "source": [
    "# first get daily entries by station\n",
    "stations_daily = \\\n",
    "(entries_daily.groupby(['STATION','DATE'])['DAILY_ENTRIES'].sum()\n",
    "                 .reset_index())\n",
    "\n",
    "stations_daily.head()"
   ]
  },
  {
   "cell_type": "code",
   "execution_count": 93,
   "metadata": {},
   "outputs": [
    {
     "data": {
      "text/plain": [
       "314       PATH NEW WTC\n",
       "257     JOURNAL SQUARE\n",
       "297       NEWARK BM BW\n",
       "61      34 ST-PENN STA\n",
       "212     EXCHANGE PLACE\n",
       "183         CITY / BUS\n",
       "232    GRD CNTRL-42 ST\n",
       "267         LACKAWANNA\n",
       "234       GROVE STREET\n",
       "46               23 ST\n",
       "Name: STATION, dtype: object"
      ]
     },
     "execution_count": 93,
     "metadata": {},
     "output_type": "execute_result"
    }
   ],
   "source": [
    "# then get top 10 stations by daily volume \n",
    "# (sum across all days is a reasonable way to define this)\n",
    "top10_stations = \\\n",
    "    (stations_daily.groupby(['STATION'])['DAILY_ENTRIES'].sum()\n",
    "                   .reset_index()\n",
    "                   .sort_values(by='DAILY_ENTRIES',ascending=False) \n",
    "                   .STATION.head(10))\n",
    "\n",
    "top10_stations"
   ]
  },
  {
   "cell_type": "code",
   "execution_count": 103,
   "metadata": {},
   "outputs": [
    {
     "data": {
      "text/plain": [
       "pandas.core.series.Series"
      ]
     },
     "execution_count": 103,
     "metadata": {},
     "output_type": "execute_result"
    }
   ],
   "source": [
    "type(top10_stations)"
   ]
  },
  {
   "cell_type": "code",
   "execution_count": 94,
   "metadata": {},
   "outputs": [],
   "source": [
    "# next create a new df that filters the stations daily data down\n",
    "# to the top 10 stations\n",
    "stations_daily_top10 = \\\n",
    "    stations_daily[stations_daily['STATION'].isin(top10_stations)]"
   ]
  },
  {
   "cell_type": "code",
   "execution_count": 95,
   "metadata": {},
   "outputs": [
    {
     "data": {
      "text/html": [
       "<div>\n",
       "<style scoped>\n",
       "    .dataframe tbody tr th:only-of-type {\n",
       "        vertical-align: middle;\n",
       "    }\n",
       "\n",
       "    .dataframe tbody tr th {\n",
       "        vertical-align: top;\n",
       "    }\n",
       "\n",
       "    .dataframe thead th {\n",
       "        text-align: right;\n",
       "    }\n",
       "</style>\n",
       "<table border=\"1\" class=\"dataframe\">\n",
       "  <thead>\n",
       "    <tr style=\"text-align: right;\">\n",
       "      <th></th>\n",
       "      <th>STATION</th>\n",
       "      <th>DATE</th>\n",
       "      <th>DAILY_ENTRIES</th>\n",
       "    </tr>\n",
       "  </thead>\n",
       "  <tbody>\n",
       "    <tr>\n",
       "      <th>919</th>\n",
       "      <td>23 ST</td>\n",
       "      <td>05/26/2019</td>\n",
       "      <td>42949.0</td>\n",
       "    </tr>\n",
       "    <tr>\n",
       "      <th>920</th>\n",
       "      <td>23 ST</td>\n",
       "      <td>05/27/2019</td>\n",
       "      <td>40984.0</td>\n",
       "    </tr>\n",
       "    <tr>\n",
       "      <th>921</th>\n",
       "      <td>23 ST</td>\n",
       "      <td>05/28/2019</td>\n",
       "      <td>108274.0</td>\n",
       "    </tr>\n",
       "    <tr>\n",
       "      <th>922</th>\n",
       "      <td>23 ST</td>\n",
       "      <td>05/29/2019</td>\n",
       "      <td>124173.0</td>\n",
       "    </tr>\n",
       "    <tr>\n",
       "      <th>923</th>\n",
       "      <td>23 ST</td>\n",
       "      <td>05/30/2019</td>\n",
       "      <td>124277.0</td>\n",
       "    </tr>\n",
       "  </tbody>\n",
       "</table>\n",
       "</div>"
      ],
      "text/plain": [
       "    STATION        DATE  DAILY_ENTRIES\n",
       "919   23 ST  05/26/2019        42949.0\n",
       "920   23 ST  05/27/2019        40984.0\n",
       "921   23 ST  05/28/2019       108274.0\n",
       "922   23 ST  05/29/2019       124173.0\n",
       "923   23 ST  05/30/2019       124277.0"
      ]
     },
     "execution_count": 95,
     "metadata": {},
     "output_type": "execute_result"
    }
   ],
   "source": [
    "stations_daily_top10.head()"
   ]
  },
  {
   "cell_type": "code",
   "execution_count": 96,
   "metadata": {
    "scrolled": true
   },
   "outputs": [
    {
     "data": {
      "text/plain": [
       "<matplotlib.axes._subplots.AxesSubplot at 0x7f607d71b350>"
      ]
     },
     "execution_count": 96,
     "metadata": {},
     "output_type": "execute_result"
    },
    {
     "data": {
      "image/png": "[encoded data removed]",
      "text/plain": [
       "<Figure size 432x288 with 1 Axes>"
      ]
     },
     "metadata": {
      "needs_background": "light"
     },
     "output_type": "display_data"
    }
   ],
   "source": [
    "# use seaborn to create a boxplot by station\n",
    "sns.boxplot('DAILY_ENTRIES', 'STATION', data=stations_daily_top10)"
   ]
  },
  {
   "cell_type": "code",
   "execution_count": 99,
   "metadata": {},
   "outputs": [
    {
     "data": {
      "text/plain": [
       "<matplotlib.axes._subplots.AxesSubplot at 0x7f607d34bdd0>"
      ]
     },
     "execution_count": 99,
     "metadata": {},
     "output_type": "execute_result"
    },
    {
     "data": {
      "image/png": "[encoded data removed]",
      "text/plain": [
       "<Figure size 432x288 with 1 Axes>"
      ]
     },
     "metadata": {
      "needs_background": "light"
     },
     "output_type": "display_data"
    }
   ],
   "source": [
    "# use seaborn to create a boxplot by station\n",
    "sns.boxplot('STATION', 'DAILY_ENTRIES', data=stations_daily_top10)"
   ]
  },
  {
   "cell_type": "code",
   "execution_count": 101,
   "metadata": {},
   "outputs": [
    {
     "data": {
      "text/plain": [
       "<matplotlib.axes._subplots.AxesSubplot at 0x7f607d005f50>"
      ]
     },
     "execution_count": 101,
     "metadata": {},
     "output_type": "execute_result"
    },
    {
     "data": {
      "image/png": "[encoded data removed]",
      "text/plain": [
       "<Figure size 432x288 with 1 Axes>"
      ]
     },
     "metadata": {
      "needs_background": "light"
     },
     "output_type": "display_data"
    }
   ],
   "source": [
    "# use seaborn to create a boxplot by station\n",
    "sns.boxplot('DATE', 'DAILY_ENTRIES', data=stations_daily_top10)"
   ]
  },
  {
   "cell_type": "code",
   "execution_count": 76,
   "metadata": {},
   "outputs": [
    {
     "data": {
      "text/plain": [
       "314       PATH NEW WTC\n",
       "257     JOURNAL SQUARE\n",
       "212     EXCHANGE PLACE\n",
       "234       GROVE STREET\n",
       "297       NEWARK BM BW\n",
       "316    PAVONIA/NEWPORT\n",
       "351    THIRTY THIRD ST\n",
       "61      34 ST-PENN STA\n",
       "298           NEWARK C\n",
       "183         CITY / BUS\n",
       "232    GRD CNTRL-42 ST\n",
       "267         LACKAWANNA\n",
       "188    CLINTON-WASH AV\n",
       "238           HARRISON\n",
       "46               23 ST\n",
       "17         14TH STREET\n",
       "59     34 ST-HERALD SQ\n",
       "172           CANAL ST\n",
       "225          FULTON ST\n",
       "352     TIMES SQ-42 ST\n",
       "Name: STATION, dtype: object"
      ]
     },
     "execution_count": 76,
     "metadata": {},
     "output_type": "execute_result"
    }
   ],
   "source": [
    "# then get top 10 stations by daily volume \n",
    "# (sum across all days is a reasonable way to define this)\n",
    "top20_stations = \\\n",
    "    (entries_daily.groupby(['STATION'])['DAILY_ENTRIES'].sum()\n",
    "                   .reset_index()\n",
    "                   .sort_values(by='DAILY_ENTRIES',ascending=False) \n",
    "                   .STATION.head(20))\n",
    "\n",
    "top20_stations"
   ]
  },
  {
   "cell_type": "code",
   "execution_count": 77,
   "metadata": {},
   "outputs": [],
   "source": [
    "# next create a new df that filters the stations daily data down\n",
    "# to the top 20 stations\n",
    "stations_daily_top20 = \\\n",
    "    stations_daily[stations_daily['STATION'].isin(top20_stations)]"
   ]
  },
  {
   "cell_type": "code",
   "execution_count": 78,
   "metadata": {},
   "outputs": [
    {
     "data": {
      "text/plain": [
       "<matplotlib.axes._subplots.AxesSubplot at 0x7f607da16590>"
      ]
     },
     "execution_count": 78,
     "metadata": {},
     "output_type": "execute_result"
    },
    {
     "data": {
      "image/png": "[encoded data removed]",
      "text/plain": [
       "<Figure size 432x288 with 1 Axes>"
      ]
     },
     "metadata": {
      "needs_background": "light"
     },
     "output_type": "display_data"
    }
   ],
   "source": [
    "# use seaborn to create a boxplot by station\n",
    "sns.boxplot('DAILY_ENTRIES', 'STATION', data=stations_daily_top20)"
   ]
  },
  {
   "cell_type": "code",
   "execution_count": 79,
   "metadata": {},
   "outputs": [],
   "source": [
    "clean_entries_daily = entries_daily.drop(['ENTRIES', 'PREV_DATE', 'PREV_ENTRIES'], axis=1)"
   ]
  },
  {
   "cell_type": "code",
   "execution_count": 80,
   "metadata": {
    "scrolled": true
   },
   "outputs": [
    {
     "data": {
      "text/html": [
       "<div>\n",
       "<style scoped>\n",
       "    .dataframe tbody tr th:only-of-type {\n",
       "        vertical-align: middle;\n",
       "    }\n",
       "\n",
       "    .dataframe tbody tr th {\n",
       "        vertical-align: top;\n",
       "    }\n",
       "\n",
       "    .dataframe thead th {\n",
       "        text-align: right;\n",
       "    }\n",
       "</style>\n",
       "<table border=\"1\" class=\"dataframe\">\n",
       "  <thead>\n",
       "    <tr style=\"text-align: right;\">\n",
       "      <th></th>\n",
       "      <th>C/A</th>\n",
       "      <th>UNIT</th>\n",
       "      <th>SCP</th>\n",
       "      <th>STATION</th>\n",
       "      <th>DATE</th>\n",
       "      <th>DAILY_ENTRIES</th>\n",
       "    </tr>\n",
       "  </thead>\n",
       "  <tbody>\n",
       "    <tr>\n",
       "      <th>1</th>\n",
       "      <td>A002</td>\n",
       "      <td>R051</td>\n",
       "      <td>02-00-00</td>\n",
       "      <td>59 ST</td>\n",
       "      <td>05/26/2019</td>\n",
       "      <td>658.0</td>\n",
       "    </tr>\n",
       "    <tr>\n",
       "      <th>2</th>\n",
       "      <td>A002</td>\n",
       "      <td>R051</td>\n",
       "      <td>02-00-00</td>\n",
       "      <td>59 ST</td>\n",
       "      <td>05/27/2019</td>\n",
       "      <td>723.0</td>\n",
       "    </tr>\n",
       "    <tr>\n",
       "      <th>3</th>\n",
       "      <td>A002</td>\n",
       "      <td>R051</td>\n",
       "      <td>02-00-00</td>\n",
       "      <td>59 ST</td>\n",
       "      <td>05/28/2019</td>\n",
       "      <td>1423.0</td>\n",
       "    </tr>\n",
       "    <tr>\n",
       "      <th>4</th>\n",
       "      <td>A002</td>\n",
       "      <td>R051</td>\n",
       "      <td>02-00-00</td>\n",
       "      <td>59 ST</td>\n",
       "      <td>05/29/2019</td>\n",
       "      <td>1529.0</td>\n",
       "    </tr>\n",
       "    <tr>\n",
       "      <th>5</th>\n",
       "      <td>A002</td>\n",
       "      <td>R051</td>\n",
       "      <td>02-00-00</td>\n",
       "      <td>59 ST</td>\n",
       "      <td>05/30/2019</td>\n",
       "      <td>1484.0</td>\n",
       "    </tr>\n",
       "  </tbody>\n",
       "</table>\n",
       "</div>"
      ],
      "text/plain": [
       "    C/A  UNIT       SCP STATION        DATE  DAILY_ENTRIES\n",
       "1  A002  R051  02-00-00   59 ST  05/26/2019          658.0\n",
       "2  A002  R051  02-00-00   59 ST  05/27/2019          723.0\n",
       "3  A002  R051  02-00-00   59 ST  05/28/2019         1423.0\n",
       "4  A002  R051  02-00-00   59 ST  05/29/2019         1529.0\n",
       "5  A002  R051  02-00-00   59 ST  05/30/2019         1484.0"
      ]
     },
     "execution_count": 80,
     "metadata": {},
     "output_type": "execute_result"
    }
   ],
   "source": [
    "clean_entries_daily.head()"
   ]
  },
  {
   "cell_type": "code",
   "execution_count": 81,
   "metadata": {},
   "outputs": [],
   "source": [
    "date_entries_daily = clean_entries_daily"
   ]
  },
  {
   "cell_type": "code",
   "execution_count": 82,
   "metadata": {},
   "outputs": [
    {
     "name": "stdout",
     "output_type": "stream",
     "text": [
      "<class 'pandas.core.frame.DataFrame'>\n",
      "Int64Index: 97067 entries, 1 to 101948\n",
      "Data columns (total 6 columns):\n",
      " #   Column         Non-Null Count  Dtype         \n",
      "---  ------         --------------  -----         \n",
      " 0   C/A            97067 non-null  object        \n",
      " 1   UNIT           97067 non-null  object        \n",
      " 2   SCP            97067 non-null  object        \n",
      " 3   STATION        97067 non-null  object        \n",
      " 4   DATE           97067 non-null  datetime64[ns]\n",
      " 5   DAILY_ENTRIES  97067 non-null  float64       \n",
      "dtypes: datetime64[ns](1), float64(1), object(4)\n",
      "memory usage: 7.7+ MB\n"
     ]
    }
   ],
   "source": [
    "date_entries_daily['DATE'] = pd.to_datetime(date_entries_daily['DATE'])\n",
    "date_entries_daily.info()\n"
   ]
  },
  {
   "cell_type": "code",
   "execution_count": 83,
   "metadata": {},
   "outputs": [
    {
     "name": "stdout",
     "output_type": "stream",
     "text": [
      "<class 'pandas.core.frame.DataFrame'>\n",
      "DatetimeIndex: 97067 entries, 2019-05-26 to 2019-06-14\n",
      "Data columns (total 5 columns):\n",
      " #   Column         Non-Null Count  Dtype  \n",
      "---  ------         --------------  -----  \n",
      " 0   C/A            97067 non-null  object \n",
      " 1   UNIT           97067 non-null  object \n",
      " 2   SCP            97067 non-null  object \n",
      " 3   STATION        97067 non-null  object \n",
      " 4   DAILY_ENTRIES  97067 non-null  float64\n",
      "dtypes: float64(1), object(4)\n",
      "memory usage: 4.4+ MB\n"
     ]
    }
   ],
   "source": [
    "date_entries_daily.set_index('DATE', inplace=True)\n",
    "date_entries_daily.info()"
   ]
  },
  {
   "cell_type": "code",
   "execution_count": 84,
   "metadata": {},
   "outputs": [
    {
     "data": {
      "text/html": [
       "<div>\n",
       "<style scoped>\n",
       "    .dataframe tbody tr th:only-of-type {\n",
       "        vertical-align: middle;\n",
       "    }\n",
       "\n",
       "    .dataframe tbody tr th {\n",
       "        vertical-align: top;\n",
       "    }\n",
       "\n",
       "    .dataframe thead th {\n",
       "        text-align: right;\n",
       "    }\n",
       "</style>\n",
       "<table border=\"1\" class=\"dataframe\">\n",
       "  <thead>\n",
       "    <tr style=\"text-align: right;\">\n",
       "      <th></th>\n",
       "      <th>C/A</th>\n",
       "      <th>UNIT</th>\n",
       "      <th>SCP</th>\n",
       "      <th>STATION</th>\n",
       "      <th>DAILY_ENTRIES</th>\n",
       "    </tr>\n",
       "    <tr>\n",
       "      <th>DATE</th>\n",
       "      <th></th>\n",
       "      <th></th>\n",
       "      <th></th>\n",
       "      <th></th>\n",
       "      <th></th>\n",
       "    </tr>\n",
       "  </thead>\n",
       "  <tbody>\n",
       "    <tr>\n",
       "      <th>2019-05-26</th>\n",
       "      <td>A002</td>\n",
       "      <td>R051</td>\n",
       "      <td>02-00-00</td>\n",
       "      <td>59 ST</td>\n",
       "      <td>658.0</td>\n",
       "    </tr>\n",
       "    <tr>\n",
       "      <th>2019-05-27</th>\n",
       "      <td>A002</td>\n",
       "      <td>R051</td>\n",
       "      <td>02-00-00</td>\n",
       "      <td>59 ST</td>\n",
       "      <td>723.0</td>\n",
       "    </tr>\n",
       "    <tr>\n",
       "      <th>2019-05-28</th>\n",
       "      <td>A002</td>\n",
       "      <td>R051</td>\n",
       "      <td>02-00-00</td>\n",
       "      <td>59 ST</td>\n",
       "      <td>1423.0</td>\n",
       "    </tr>\n",
       "    <tr>\n",
       "      <th>2019-05-29</th>\n",
       "      <td>A002</td>\n",
       "      <td>R051</td>\n",
       "      <td>02-00-00</td>\n",
       "      <td>59 ST</td>\n",
       "      <td>1529.0</td>\n",
       "    </tr>\n",
       "    <tr>\n",
       "      <th>2019-05-30</th>\n",
       "      <td>A002</td>\n",
       "      <td>R051</td>\n",
       "      <td>02-00-00</td>\n",
       "      <td>59 ST</td>\n",
       "      <td>1484.0</td>\n",
       "    </tr>\n",
       "  </tbody>\n",
       "</table>\n",
       "</div>"
      ],
      "text/plain": [
       "             C/A  UNIT       SCP STATION  DAILY_ENTRIES\n",
       "DATE                                                   \n",
       "2019-05-26  A002  R051  02-00-00   59 ST          658.0\n",
       "2019-05-27  A002  R051  02-00-00   59 ST          723.0\n",
       "2019-05-28  A002  R051  02-00-00   59 ST         1423.0\n",
       "2019-05-29  A002  R051  02-00-00   59 ST         1529.0\n",
       "2019-05-30  A002  R051  02-00-00   59 ST         1484.0"
      ]
     },
     "execution_count": 84,
     "metadata": {},
     "output_type": "execute_result"
    }
   ],
   "source": [
    "date_entries_daily.head()"
   ]
  },
  {
   "cell_type": "code",
   "execution_count": null,
   "metadata": {},
   "outputs": [],
   "source": []
  }
 ],
 "metadata": {
  "kernelspec": {
   "display_name": "Python 3",
   "language": "python",
   "name": "python3"
  },
  "language_info": {
   "codemirror_mode": {
    "name": "ipython",
    "version": 3
   },
   "file_extension": ".py",
   "mimetype": "text/x-python",
   "name": "python",
   "nbconvert_exporter": "python",
   "pygments_lexer": "ipython3",
   "version": "3.7.4"
  }
 },
 "nbformat": 4,
 "nbformat_minor": 4
}
