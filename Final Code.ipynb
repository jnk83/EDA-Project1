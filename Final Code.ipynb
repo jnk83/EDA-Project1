{
 "cells": [
  {
   "cell_type": "markdown",
   "metadata": {},
   "source": [
    "# Importing the Data"
   ]
  },
  {
   "cell_type": "code",
   "execution_count": 27,
   "metadata": {},
   "outputs": [],
   "source": [
    "import pandas as pd\n",
    "import numpy as np\n",
    "import matplotlib.pyplot as plt\n",
    "from scipy import stats\n",
    "import seaborn as sns\n",
    "from datetime import datetime as dt\n",
    "\n",
    "%matplotlib inline"
   ]
  },
  {
   "cell_type": "code",
   "execution_count": 28,
   "metadata": {},
   "outputs": [],
   "source": [
    "def get_data_parse_dt(week_nums):\n",
    "    '''\n",
    "    Return dataframe of MTA turnstile data\n",
    "    \n",
    "    Arguments:\n",
    "    week_nums (list): A list of dates specifying weeks for which we're pulling data\n",
    "    \n",
    "    Returns:\n",
    "    A dataframe containing MTA turnstile data for given date range\n",
    "    '''\n",
    "    url = \"http://web.mta.info/developers/data/nyct/turnstile/turnstile_{}.txt\"\n",
    "    dfs = []\n",
    "    for week_num in week_nums:\n",
    "        file_url = url.format(week_num)\n",
    "        dfs.append(pd.read_csv(file_url, parse_dates=[['DATE','TIME']], keep_date_col=True))\n",
    "    return pd.concat(dfs)\n",
    "\n",
    "week_nums = [190601, 190608, 190615, 190622]\n",
    "turnstiles_df = get_data_parse_dt(week_nums)"
   ]
  },
  {
   "cell_type": "markdown",
   "metadata": {},
   "source": [
    "# Cleaning The Data"
   ]
  },
  {
   "cell_type": "code",
   "execution_count": 29,
   "metadata": {},
   "outputs": [
    {
     "data": {
      "text/plain": [
       "Index(['DATE_TIME', 'C/A', 'UNIT', 'SCP', 'STATION', 'LINENAME', 'DIVISION',\n",
       "       'DATE', 'TIME', 'DESC', 'ENTRIES',\n",
       "       'EXITS                                                               '],\n",
       "      dtype='object')"
      ]
     },
     "execution_count": 29,
     "metadata": {},
     "output_type": "execute_result"
    }
   ],
   "source": [
    "turnstiles_df.columns"
   ]
  },
  {
   "cell_type": "code",
   "execution_count": 30,
   "metadata": {},
   "outputs": [],
   "source": [
    "# clean column names\n",
    "\n",
    "turnstiles_df.columns = [column.strip() for column in turnstiles_df.columns]"
   ]
  },
  {
   "cell_type": "code",
   "execution_count": 31,
   "metadata": {},
   "outputs": [
    {
     "data": {
      "text/plain": [
       "05/25/2019    28855\n",
       "05/26/2019    29063\n",
       "05/27/2019    29068\n",
       "05/28/2019    28873\n",
       "05/29/2019    29095\n",
       "05/30/2019    29190\n",
       "05/31/2019    29651\n",
       "06/01/2019    29066\n",
       "06/02/2019    28968\n",
       "06/03/2019    30022\n",
       "06/04/2019    29513\n",
       "06/05/2019    29484\n",
       "06/06/2019    29213\n",
       "06/07/2019    28745\n",
       "06/08/2019    29030\n",
       "06/09/2019    29133\n",
       "06/10/2019    29351\n",
       "06/11/2019    29113\n",
       "06/12/2019    30023\n",
       "06/13/2019    29276\n",
       "06/14/2019    29008\n",
       "06/15/2019    29605\n",
       "06/16/2019    29322\n",
       "06/17/2019    29421\n",
       "06/18/2019    29599\n",
       "06/19/2019    29614\n",
       "06/20/2019    29556\n",
       "06/21/2019    30360\n",
       "Name: DATE, dtype: int64"
      ]
     },
     "execution_count": 31,
     "metadata": {},
     "output_type": "execute_result"
    }
   ],
   "source": [
    "# identify and remove duplicates\n",
    "\n",
    "turnstiles_df.DATE.value_counts().sort_index()"
   ]
  },
  {
   "cell_type": "code",
   "execution_count": 32,
   "metadata": {},
   "outputs": [
    {
     "data": {
      "text/html": [
       "<div>\n",
       "<style scoped>\n",
       "    .dataframe tbody tr th:only-of-type {\n",
       "        vertical-align: middle;\n",
       "    }\n",
       "\n",
       "    .dataframe tbody tr th {\n",
       "        vertical-align: top;\n",
       "    }\n",
       "\n",
       "    .dataframe thead th {\n",
       "        text-align: right;\n",
       "    }\n",
       "</style>\n",
       "<table border=\"1\" class=\"dataframe\">\n",
       "  <thead>\n",
       "    <tr style=\"text-align: right;\">\n",
       "      <th></th>\n",
       "      <th>C/A</th>\n",
       "      <th>UNIT</th>\n",
       "      <th>SCP</th>\n",
       "      <th>STATION</th>\n",
       "      <th>DATE_TIME</th>\n",
       "      <th>ENTRIES</th>\n",
       "    </tr>\n",
       "  </thead>\n",
       "  <tbody>\n",
       "    <tr>\n",
       "      <th>193647</th>\n",
       "      <td>N045</td>\n",
       "      <td>R187</td>\n",
       "      <td>01-00-00</td>\n",
       "      <td>81 ST-MUSEUM</td>\n",
       "      <td>2019-06-01 17:00:00</td>\n",
       "      <td>2</td>\n",
       "    </tr>\n",
       "    <tr>\n",
       "      <th>677709</th>\n",
       "      <td>R290</td>\n",
       "      <td>R161</td>\n",
       "      <td>00-00-00</td>\n",
       "      <td>KINGSBRIDGE RD</td>\n",
       "      <td>2019-06-07 05:00:00</td>\n",
       "      <td>2</td>\n",
       "    </tr>\n",
       "    <tr>\n",
       "      <th>193652</th>\n",
       "      <td>N045</td>\n",
       "      <td>R187</td>\n",
       "      <td>01-00-00</td>\n",
       "      <td>81 ST-MUSEUM</td>\n",
       "      <td>2019-06-02 17:00:00</td>\n",
       "      <td>2</td>\n",
       "    </tr>\n",
       "    <tr>\n",
       "      <th>581857</th>\n",
       "      <td>R174</td>\n",
       "      <td>R034</td>\n",
       "      <td>00-00-02</td>\n",
       "      <td>125 ST</td>\n",
       "      <td>2019-06-08 00:00:00</td>\n",
       "      <td>2</td>\n",
       "    </tr>\n",
       "    <tr>\n",
       "      <th>581688</th>\n",
       "      <td>R174</td>\n",
       "      <td>R034</td>\n",
       "      <td>00-00-01</td>\n",
       "      <td>125 ST</td>\n",
       "      <td>2019-06-08 00:00:00</td>\n",
       "      <td>2</td>\n",
       "    </tr>\n",
       "  </tbody>\n",
       "</table>\n",
       "</div>"
      ],
      "text/plain": [
       "         C/A  UNIT       SCP         STATION           DATE_TIME  ENTRIES\n",
       "193647  N045  R187  01-00-00    81 ST-MUSEUM 2019-06-01 17:00:00        2\n",
       "677709  R290  R161  00-00-00  KINGSBRIDGE RD 2019-06-07 05:00:00        2\n",
       "193652  N045  R187  01-00-00    81 ST-MUSEUM 2019-06-02 17:00:00        2\n",
       "581857  R174  R034  00-00-02          125 ST 2019-06-08 00:00:00        2\n",
       "581688  R174  R034  00-00-01          125 ST 2019-06-08 00:00:00        2"
      ]
     },
     "execution_count": 32,
     "metadata": {},
     "output_type": "execute_result"
    }
   ],
   "source": [
    "(turnstiles_df\n",
    " .groupby([\"C/A\", \"UNIT\", \"SCP\", \"STATION\", \"DATE_TIME\"])\n",
    " .ENTRIES.count()\n",
    " .reset_index()\n",
    " .sort_values(\"ENTRIES\", ascending=False)).head(5)"
   ]
  },
  {
   "cell_type": "code",
   "execution_count": 33,
   "metadata": {
    "scrolled": true
   },
   "outputs": [
    {
     "data": {
      "text/plain": [
       "REGULAR       818249\n",
       "RECOVR AUD      2968\n",
       "Name: DESC, dtype: int64"
      ]
     },
     "execution_count": 33,
     "metadata": {},
     "output_type": "execute_result"
    }
   ],
   "source": [
    "turnstiles_df.DESC.value_counts()"
   ]
  },
  {
   "cell_type": "code",
   "execution_count": 34,
   "metadata": {},
   "outputs": [],
   "source": [
    "turnstiles_df.sort_values([\"C/A\", \"UNIT\", \"SCP\", \"STATION\", \"DATE_TIME\"], \n",
    "                          inplace=True, ascending=False)\n",
    "turnstiles_df.drop_duplicates(subset=[\"C/A\", \"UNIT\", \"SCP\", \"STATION\", \"DATE_TIME\"], inplace=True)"
   ]
  },
  {
   "cell_type": "code",
   "execution_count": 35,
   "metadata": {},
   "outputs": [
    {
     "data": {
      "text/html": [
       "<div>\n",
       "<style scoped>\n",
       "    .dataframe tbody tr th:only-of-type {\n",
       "        vertical-align: middle;\n",
       "    }\n",
       "\n",
       "    .dataframe tbody tr th {\n",
       "        vertical-align: top;\n",
       "    }\n",
       "\n",
       "    .dataframe thead th {\n",
       "        text-align: right;\n",
       "    }\n",
       "</style>\n",
       "<table border=\"1\" class=\"dataframe\">\n",
       "  <thead>\n",
       "    <tr style=\"text-align: right;\">\n",
       "      <th></th>\n",
       "      <th>C/A</th>\n",
       "      <th>UNIT</th>\n",
       "      <th>SCP</th>\n",
       "      <th>STATION</th>\n",
       "      <th>DATE_TIME</th>\n",
       "      <th>ENTRIES</th>\n",
       "    </tr>\n",
       "  </thead>\n",
       "  <tbody>\n",
       "    <tr>\n",
       "      <th>0</th>\n",
       "      <td>A002</td>\n",
       "      <td>R051</td>\n",
       "      <td>02-00-00</td>\n",
       "      <td>59 ST</td>\n",
       "      <td>2019-05-25 00:00:00</td>\n",
       "      <td>1</td>\n",
       "    </tr>\n",
       "    <tr>\n",
       "      <th>547474</th>\n",
       "      <td>R139</td>\n",
       "      <td>R031</td>\n",
       "      <td>04-00-01</td>\n",
       "      <td>34 ST-PENN STA</td>\n",
       "      <td>2019-05-26 20:00:00</td>\n",
       "      <td>1</td>\n",
       "    </tr>\n",
       "    <tr>\n",
       "      <th>547464</th>\n",
       "      <td>R139</td>\n",
       "      <td>R031</td>\n",
       "      <td>04-00-01</td>\n",
       "      <td>34 ST-PENN STA</td>\n",
       "      <td>2019-05-25 04:00:00</td>\n",
       "      <td>1</td>\n",
       "    </tr>\n",
       "    <tr>\n",
       "      <th>547465</th>\n",
       "      <td>R139</td>\n",
       "      <td>R031</td>\n",
       "      <td>04-00-01</td>\n",
       "      <td>34 ST-PENN STA</td>\n",
       "      <td>2019-05-25 08:00:00</td>\n",
       "      <td>1</td>\n",
       "    </tr>\n",
       "    <tr>\n",
       "      <th>547466</th>\n",
       "      <td>R139</td>\n",
       "      <td>R031</td>\n",
       "      <td>04-00-01</td>\n",
       "      <td>34 ST-PENN STA</td>\n",
       "      <td>2019-05-25 12:00:00</td>\n",
       "      <td>1</td>\n",
       "    </tr>\n",
       "  </tbody>\n",
       "</table>\n",
       "</div>"
      ],
      "text/plain": [
       "         C/A  UNIT       SCP         STATION           DATE_TIME  ENTRIES\n",
       "0       A002  R051  02-00-00           59 ST 2019-05-25 00:00:00        1\n",
       "547474  R139  R031  04-00-01  34 ST-PENN STA 2019-05-26 20:00:00        1\n",
       "547464  R139  R031  04-00-01  34 ST-PENN STA 2019-05-25 04:00:00        1\n",
       "547465  R139  R031  04-00-01  34 ST-PENN STA 2019-05-25 08:00:00        1\n",
       "547466  R139  R031  04-00-01  34 ST-PENN STA 2019-05-25 12:00:00        1"
      ]
     },
     "execution_count": 35,
     "metadata": {},
     "output_type": "execute_result"
    }
   ],
   "source": [
    "(turnstiles_df\n",
    " .groupby([\"C/A\", \"UNIT\", \"SCP\", \"STATION\", \"DATE_TIME\"])\n",
    " .ENTRIES.count()\n",
    " .reset_index()\n",
    " .sort_values(\"ENTRIES\", ascending=False)).head(5)"
   ]
  },
  {
   "cell_type": "code",
   "execution_count": 36,
   "metadata": {},
   "outputs": [],
   "source": [
    "# Drop Exits and Desc Column.  To prevent errors in multiple run of cell, errors on drop is ignored\n",
    "\n",
    "entries_df = turnstiles_df.drop([\"EXITS\", \"DESC\"], axis=1, errors=\"ignore\")"
   ]
  },
  {
   "cell_type": "markdown",
   "metadata": {},
   "source": [
    "##### Distinguish between different stations with the same station name, by keeping LINENAME column in dataframe"
   ]
  },
  {
   "cell_type": "markdown",
   "metadata": {},
   "source": [
    "Active '23 ST' stations, based on Wiki\n",
    "\n",
    "* 23rd Street station (IRT Lexington Avenue Line), a subway station at Park Avenue South (4th Avenue) in Manhattan\n",
    "* 23rd Street station (BMT Broadway Line), a subway station at Broadway and Fifth Avenue in Manhattan\n",
    "* 23rd Street station (IND Sixth Avenue Line), a subway station at Sixth Avenue (Avenue of the Americas) in Manhattan\n",
    "* 23rd Street station (IRT Broadway–Seventh Avenue Line), a subway station at Seventh Avenue in Manhattan\n",
    "* 23rd Street station (IND Eighth Avenue Line), a subway station at Eighth Avenue in Manhattan\n",
    "* Court Square–23rd Street station, a subway station near One Court Square in Long Island City, Queens"
   ]
  },
  {
   "cell_type": "code",
   "execution_count": 37,
   "metadata": {},
   "outputs": [],
   "source": [
    "entries_daily = (entries_df\n",
    "                        .groupby([\"C/A\", \"UNIT\", \"SCP\", \"STATION\", \"LINENAME\", \"DATE\"],as_index=False)\n",
    "                        .ENTRIES.first())"
   ]
  },
  {
   "cell_type": "code",
   "execution_count": 38,
   "metadata": {},
   "outputs": [
    {
     "data": {
      "text/html": [
       "<div>\n",
       "<style scoped>\n",
       "    .dataframe tbody tr th:only-of-type {\n",
       "        vertical-align: middle;\n",
       "    }\n",
       "\n",
       "    .dataframe tbody tr th {\n",
       "        vertical-align: top;\n",
       "    }\n",
       "\n",
       "    .dataframe thead th {\n",
       "        text-align: right;\n",
       "    }\n",
       "</style>\n",
       "<table border=\"1\" class=\"dataframe\">\n",
       "  <thead>\n",
       "    <tr style=\"text-align: right;\">\n",
       "      <th></th>\n",
       "      <th>C/A</th>\n",
       "      <th>UNIT</th>\n",
       "      <th>SCP</th>\n",
       "      <th>STATION</th>\n",
       "      <th>LINENAME</th>\n",
       "      <th>DATE</th>\n",
       "      <th>ENTRIES</th>\n",
       "    </tr>\n",
       "  </thead>\n",
       "  <tbody>\n",
       "    <tr>\n",
       "      <th>0</th>\n",
       "      <td>A002</td>\n",
       "      <td>R051</td>\n",
       "      <td>02-00-00</td>\n",
       "      <td>59 ST</td>\n",
       "      <td>NQR456W</td>\n",
       "      <td>05/25/2019</td>\n",
       "      <td>7072456</td>\n",
       "    </tr>\n",
       "    <tr>\n",
       "      <th>1</th>\n",
       "      <td>A002</td>\n",
       "      <td>R051</td>\n",
       "      <td>02-00-00</td>\n",
       "      <td>59 ST</td>\n",
       "      <td>NQR456W</td>\n",
       "      <td>05/26/2019</td>\n",
       "      <td>7073114</td>\n",
       "    </tr>\n",
       "    <tr>\n",
       "      <th>2</th>\n",
       "      <td>A002</td>\n",
       "      <td>R051</td>\n",
       "      <td>02-00-00</td>\n",
       "      <td>59 ST</td>\n",
       "      <td>NQR456W</td>\n",
       "      <td>05/27/2019</td>\n",
       "      <td>7073837</td>\n",
       "    </tr>\n",
       "    <tr>\n",
       "      <th>3</th>\n",
       "      <td>A002</td>\n",
       "      <td>R051</td>\n",
       "      <td>02-00-00</td>\n",
       "      <td>59 ST</td>\n",
       "      <td>NQR456W</td>\n",
       "      <td>05/28/2019</td>\n",
       "      <td>7075260</td>\n",
       "    </tr>\n",
       "    <tr>\n",
       "      <th>4</th>\n",
       "      <td>A002</td>\n",
       "      <td>R051</td>\n",
       "      <td>02-00-00</td>\n",
       "      <td>59 ST</td>\n",
       "      <td>NQR456W</td>\n",
       "      <td>05/29/2019</td>\n",
       "      <td>7076789</td>\n",
       "    </tr>\n",
       "  </tbody>\n",
       "</table>\n",
       "</div>"
      ],
      "text/plain": [
       "    C/A  UNIT       SCP STATION LINENAME        DATE  ENTRIES\n",
       "0  A002  R051  02-00-00   59 ST  NQR456W  05/25/2019  7072456\n",
       "1  A002  R051  02-00-00   59 ST  NQR456W  05/26/2019  7073114\n",
       "2  A002  R051  02-00-00   59 ST  NQR456W  05/27/2019  7073837\n",
       "3  A002  R051  02-00-00   59 ST  NQR456W  05/28/2019  7075260\n",
       "4  A002  R051  02-00-00   59 ST  NQR456W  05/29/2019  7076789"
      ]
     },
     "execution_count": 38,
     "metadata": {},
     "output_type": "execute_result"
    }
   ],
   "source": [
    "entries_daily.head()"
   ]
  },
  {
   "cell_type": "code",
   "execution_count": 39,
   "metadata": {},
   "outputs": [
    {
     "data": {
      "text/plain": [
       "array(['NRW', 'CE', 'FM', '1', '6'], dtype=object)"
      ]
     },
     "execution_count": 39,
     "metadata": {},
     "output_type": "execute_result"
    }
   ],
   "source": [
    "entries_daily[entries_daily['STATION'] == '23 ST']['LINENAME'].unique()"
   ]
  },
  {
   "cell_type": "markdown",
   "metadata": {},
   "source": [
    "## Creating DAILY_ENTRIES column\n",
    "##### Current ENTRIES column contains cumulative values"
   ]
  },
  {
   "cell_type": "code",
   "execution_count": 40,
   "metadata": {},
   "outputs": [
    {
     "name": "stderr",
     "output_type": "stream",
     "text": [
      "/Users/wasilaq/opt/anaconda3/lib/python3.7/site-packages/ipykernel_launcher.py:5: FutureWarning: Indexing with multiple keys (implicitly converted to a tuple of keys) will be deprecated, use a list instead.\n",
      "  \"\"\"\n"
     ]
    }
   ],
   "source": [
    "# Creates the PREV_DATE and PREV_ENTRIES columns, by grouping by the appropriate identifiers,\n",
    "# and then applying a lambda function to shift the entries for the new columns down by one row.\n",
    "\n",
    "entries_daily[[\"PREV_DATE\", \"PREV_ENTRIES\"]] = (entries_daily\n",
    "                                                       .groupby([\"C/A\", \"UNIT\", \"SCP\", \"STATION\", \"LINENAME\"])[\"DATE\", \"ENTRIES\"]\n",
    "                                                       .apply(lambda grp: grp.shift(1)))"
   ]
  },
  {
   "cell_type": "code",
   "execution_count": 41,
   "metadata": {},
   "outputs": [],
   "source": [
    "# The first column now has na values, since there is no prior data to shift down.\n",
    "# This drops the earliest entry in the df containing the na values.\n",
    "\n",
    "entries_daily.dropna(subset=[\"PREV_DATE\"], axis=0, inplace=True)"
   ]
  },
  {
   "cell_type": "code",
   "execution_count": 42,
   "metadata": {},
   "outputs": [
    {
     "data": {
      "text/html": [
       "<div>\n",
       "<style scoped>\n",
       "    .dataframe tbody tr th:only-of-type {\n",
       "        vertical-align: middle;\n",
       "    }\n",
       "\n",
       "    .dataframe tbody tr th {\n",
       "        vertical-align: top;\n",
       "    }\n",
       "\n",
       "    .dataframe thead th {\n",
       "        text-align: right;\n",
       "    }\n",
       "</style>\n",
       "<table border=\"1\" class=\"dataframe\">\n",
       "  <thead>\n",
       "    <tr style=\"text-align: right;\">\n",
       "      <th></th>\n",
       "      <th>C/A</th>\n",
       "      <th>UNIT</th>\n",
       "      <th>SCP</th>\n",
       "      <th>STATION</th>\n",
       "      <th>LINENAME</th>\n",
       "      <th>DATE</th>\n",
       "      <th>ENTRIES</th>\n",
       "      <th>PREV_DATE</th>\n",
       "      <th>PREV_ENTRIES</th>\n",
       "    </tr>\n",
       "  </thead>\n",
       "  <tbody>\n",
       "    <tr>\n",
       "      <th>2157</th>\n",
       "      <td>A025</td>\n",
       "      <td>R023</td>\n",
       "      <td>01-03-01</td>\n",
       "      <td>34 ST-HERALD SQ</td>\n",
       "      <td>BDFMNQRW</td>\n",
       "      <td>05/26/2019</td>\n",
       "      <td>1238366337</td>\n",
       "      <td>05/25/2019</td>\n",
       "      <td>1.238369e+09</td>\n",
       "    </tr>\n",
       "    <tr>\n",
       "      <th>2158</th>\n",
       "      <td>A025</td>\n",
       "      <td>R023</td>\n",
       "      <td>01-03-01</td>\n",
       "      <td>34 ST-HERALD SQ</td>\n",
       "      <td>BDFMNQRW</td>\n",
       "      <td>05/27/2019</td>\n",
       "      <td>1238364310</td>\n",
       "      <td>05/26/2019</td>\n",
       "      <td>1.238366e+09</td>\n",
       "    </tr>\n",
       "    <tr>\n",
       "      <th>2159</th>\n",
       "      <td>A025</td>\n",
       "      <td>R023</td>\n",
       "      <td>01-03-01</td>\n",
       "      <td>34 ST-HERALD SQ</td>\n",
       "      <td>BDFMNQRW</td>\n",
       "      <td>05/28/2019</td>\n",
       "      <td>1238360334</td>\n",
       "      <td>05/27/2019</td>\n",
       "      <td>1.238364e+09</td>\n",
       "    </tr>\n",
       "    <tr>\n",
       "      <th>2160</th>\n",
       "      <td>A025</td>\n",
       "      <td>R023</td>\n",
       "      <td>01-03-01</td>\n",
       "      <td>34 ST-HERALD SQ</td>\n",
       "      <td>BDFMNQRW</td>\n",
       "      <td>05/29/2019</td>\n",
       "      <td>1238356306</td>\n",
       "      <td>05/28/2019</td>\n",
       "      <td>1.238360e+09</td>\n",
       "    </tr>\n",
       "    <tr>\n",
       "      <th>2161</th>\n",
       "      <td>A025</td>\n",
       "      <td>R023</td>\n",
       "      <td>01-03-01</td>\n",
       "      <td>34 ST-HERALD SQ</td>\n",
       "      <td>BDFMNQRW</td>\n",
       "      <td>05/30/2019</td>\n",
       "      <td>1238352363</td>\n",
       "      <td>05/29/2019</td>\n",
       "      <td>1.238356e+09</td>\n",
       "    </tr>\n",
       "  </tbody>\n",
       "</table>\n",
       "</div>"
      ],
      "text/plain": [
       "       C/A  UNIT       SCP          STATION  LINENAME        DATE     ENTRIES  \\\n",
       "2157  A025  R023  01-03-01  34 ST-HERALD SQ  BDFMNQRW  05/26/2019  1238366337   \n",
       "2158  A025  R023  01-03-01  34 ST-HERALD SQ  BDFMNQRW  05/27/2019  1238364310   \n",
       "2159  A025  R023  01-03-01  34 ST-HERALD SQ  BDFMNQRW  05/28/2019  1238360334   \n",
       "2160  A025  R023  01-03-01  34 ST-HERALD SQ  BDFMNQRW  05/29/2019  1238356306   \n",
       "2161  A025  R023  01-03-01  34 ST-HERALD SQ  BDFMNQRW  05/30/2019  1238352363   \n",
       "\n",
       "       PREV_DATE  PREV_ENTRIES  \n",
       "2157  05/25/2019  1.238369e+09  \n",
       "2158  05/26/2019  1.238366e+09  \n",
       "2159  05/27/2019  1.238364e+09  \n",
       "2160  05/28/2019  1.238360e+09  \n",
       "2161  05/29/2019  1.238356e+09  "
      ]
     },
     "execution_count": 42,
     "metadata": {},
     "output_type": "execute_result"
    }
   ],
   "source": [
    "# Uses a conditional to select those rows where the cumulative entries are less than that for \n",
    "# for the day prior\n",
    "\n",
    "entries_daily[entries_daily[\"ENTRIES\"] < entries_daily[\"PREV_ENTRIES\"]].head()"
   ]
  },
  {
   "cell_type": "code",
   "execution_count": 46,
   "metadata": {},
   "outputs": [
    {
     "data": {
      "text/html": [
       "<div>\n",
       "<style scoped>\n",
       "    .dataframe tbody tr th:only-of-type {\n",
       "        vertical-align: middle;\n",
       "    }\n",
       "\n",
       "    .dataframe tbody tr th {\n",
       "        vertical-align: top;\n",
       "    }\n",
       "\n",
       "    .dataframe thead th {\n",
       "        text-align: right;\n",
       "    }\n",
       "</style>\n",
       "<table border=\"1\" class=\"dataframe\">\n",
       "  <thead>\n",
       "    <tr style=\"text-align: right;\">\n",
       "      <th></th>\n",
       "      <th>DATE_TIME</th>\n",
       "      <th>C/A</th>\n",
       "      <th>UNIT</th>\n",
       "      <th>SCP</th>\n",
       "      <th>STATION</th>\n",
       "      <th>LINENAME</th>\n",
       "      <th>DIVISION</th>\n",
       "      <th>DATE</th>\n",
       "      <th>TIME</th>\n",
       "      <th>ENTRIES</th>\n",
       "    </tr>\n",
       "  </thead>\n",
       "  <tbody>\n",
       "    <tr>\n",
       "      <th>3269</th>\n",
       "      <td>2019-05-26 20:00:00</td>\n",
       "      <td>A025</td>\n",
       "      <td>R023</td>\n",
       "      <td>01-03-01</td>\n",
       "      <td>34 ST-HERALD SQ</td>\n",
       "      <td>BDFMNQRW</td>\n",
       "      <td>BMT</td>\n",
       "      <td>05/26/2019</td>\n",
       "      <td>20:00:00</td>\n",
       "      <td>1238366337</td>\n",
       "    </tr>\n",
       "    <tr>\n",
       "      <th>3268</th>\n",
       "      <td>2019-05-26 16:00:00</td>\n",
       "      <td>A025</td>\n",
       "      <td>R023</td>\n",
       "      <td>01-03-01</td>\n",
       "      <td>34 ST-HERALD SQ</td>\n",
       "      <td>BDFMNQRW</td>\n",
       "      <td>BMT</td>\n",
       "      <td>05/26/2019</td>\n",
       "      <td>16:00:00</td>\n",
       "      <td>1238366929</td>\n",
       "    </tr>\n",
       "    <tr>\n",
       "      <th>3267</th>\n",
       "      <td>2019-05-26 12:00:00</td>\n",
       "      <td>A025</td>\n",
       "      <td>R023</td>\n",
       "      <td>01-03-01</td>\n",
       "      <td>34 ST-HERALD SQ</td>\n",
       "      <td>BDFMNQRW</td>\n",
       "      <td>BMT</td>\n",
       "      <td>05/26/2019</td>\n",
       "      <td>12:00:00</td>\n",
       "      <td>1238367347</td>\n",
       "    </tr>\n",
       "    <tr>\n",
       "      <th>3266</th>\n",
       "      <td>2019-05-26 08:00:00</td>\n",
       "      <td>A025</td>\n",
       "      <td>R023</td>\n",
       "      <td>01-03-01</td>\n",
       "      <td>34 ST-HERALD SQ</td>\n",
       "      <td>BDFMNQRW</td>\n",
       "      <td>BMT</td>\n",
       "      <td>05/26/2019</td>\n",
       "      <td>08:00:00</td>\n",
       "      <td>1238367539</td>\n",
       "    </tr>\n",
       "    <tr>\n",
       "      <th>3265</th>\n",
       "      <td>2019-05-26 04:00:00</td>\n",
       "      <td>A025</td>\n",
       "      <td>R023</td>\n",
       "      <td>01-03-01</td>\n",
       "      <td>34 ST-HERALD SQ</td>\n",
       "      <td>BDFMNQRW</td>\n",
       "      <td>BMT</td>\n",
       "      <td>05/26/2019</td>\n",
       "      <td>04:00:00</td>\n",
       "      <td>1238367622</td>\n",
       "    </tr>\n",
       "  </tbody>\n",
       "</table>\n",
       "</div>"
      ],
      "text/plain": [
       "               DATE_TIME   C/A  UNIT       SCP          STATION  LINENAME  \\\n",
       "3269 2019-05-26 20:00:00  A025  R023  01-03-01  34 ST-HERALD SQ  BDFMNQRW   \n",
       "3268 2019-05-26 16:00:00  A025  R023  01-03-01  34 ST-HERALD SQ  BDFMNQRW   \n",
       "3267 2019-05-26 12:00:00  A025  R023  01-03-01  34 ST-HERALD SQ  BDFMNQRW   \n",
       "3266 2019-05-26 08:00:00  A025  R023  01-03-01  34 ST-HERALD SQ  BDFMNQRW   \n",
       "3265 2019-05-26 04:00:00  A025  R023  01-03-01  34 ST-HERALD SQ  BDFMNQRW   \n",
       "\n",
       "     DIVISION        DATE      TIME     ENTRIES  \n",
       "3269      BMT  05/26/2019  20:00:00  1238366337  \n",
       "3268      BMT  05/26/2019  16:00:00  1238366929  \n",
       "3267      BMT  05/26/2019  12:00:00  1238367347  \n",
       "3266      BMT  05/26/2019  08:00:00  1238367539  \n",
       "3265      BMT  05/26/2019  04:00:00  1238367622  "
      ]
     },
     "execution_count": 46,
     "metadata": {},
     "output_type": "execute_result"
    }
   ],
   "source": [
    "# Applies a mask to see more granular data on a specific turnstile on a specfic day to better see\n",
    "# what may be going on\n",
    "\n",
    "mask = ((entries_df[\"C/A\"] == \"A025\") & \n",
    "(entries_df[\"UNIT\"] == \"R023\") & \n",
    "(entries_df[\"SCP\"] == \"01-03-01\") & \n",
    "(entries_df[\"STATION\"] == \"34 ST-HERALD SQ\") &\n",
    "(entries_df[\"DATE_TIME\"].dt.date == dt(2019, 5, 26).date()))\n",
    "entries_df[mask].head()"
   ]
  },
  {
   "cell_type": "code",
   "execution_count": 47,
   "metadata": {},
   "outputs": [
    {
     "data": {
      "text/plain": [
       "C/A   UNIT  SCP       STATION          LINENAME \n",
       "A025  R023  01-03-01  34 ST-HERALD SQ  BDFMNQRW     27\n",
       "A037  R170  05-00-00  14 ST-UNION SQ   LNQR456W      1\n",
       "A043  R462  00-06-00  CANAL ST         JNQRZ6W       1\n",
       "A049  R088  02-05-00  CORTLANDT ST     RNW          24\n",
       "A066  R118  00-00-00  CANAL ST         JNQRZ6W      27\n",
       "                                                    ..\n",
       "R610  R057  00-04-01  ATL AV-BARCLAY   2345BDNQR     1\n",
       "R621  R060  00-03-01  EASTN PKWY-MUSM  23            2\n",
       "R622  R123  00-00-00  FRANKLIN AV      2345S        27\n",
       "R646  R110  01-00-01  FLATBUSH AV-B.C  25           27\n",
       "R730  R431  00-00-04  EASTCHSTER/DYRE  5            27\n",
       "Length: 416, dtype: int64"
      ]
     },
     "execution_count": 47,
     "metadata": {},
     "output_type": "execute_result"
    }
   ],
   "source": [
    "# Well, there's definitely a problem.  Let's see how many stations have suffer from it by applying\n",
    "# .size()\n",
    "\n",
    "(entries_daily[entries_daily[\"ENTRIES\"] < entries_daily[\"PREV_ENTRIES\"]]\n",
    "    .groupby([\"C/A\", \"UNIT\", \"SCP\", \"STATION\",\"LINENAME\"])\n",
    "    .size())"
   ]
  },
  {
   "cell_type": "code",
   "execution_count": 48,
   "metadata": {},
   "outputs": [
    {
     "name": "stdout",
     "output_type": "stream",
     "text": [
      "617 3124306.0\n",
      "1376283 8703.0\n",
      "371 4317056.0\n",
      "1790 13967417.0\n",
      "221 7246254.0\n",
      "4050694 5902992.0\n",
      "7246468 4050451.0\n",
      "5571815 104607574.0\n",
      "459063 4526857.0\n",
      "0 966871.0\n",
      "852339 658.0\n",
      "228 1393341.0\n",
      "286 3466273.0\n",
      "1828703861 9687851.0\n",
      "126 4086499.0\n",
      "1834 2588198.0\n",
      "1337 4676887.0\n",
      "607 621485338.0\n",
      "149 1252883.0\n",
      "216 728932.0\n",
      "553 883514.0\n",
      "580 1650137.0\n",
      "471 796882.0\n",
      "820 1523029.0\n",
      "375 936362.0\n",
      "366 1047791.0\n",
      "761 564967.0\n",
      "932 607519.0\n",
      "840 1251816.0\n",
      "634 1572569.0\n",
      "572 527380.0\n",
      "857 3126422.0\n",
      "1113 1946726.0\n",
      "1057 1214910.0\n",
      "1154 968173.0\n",
      "594 533833.0\n",
      "291 1309224.0\n",
      "215 778553.0\n",
      "89 556763.0\n",
      "1484 1063313.0\n",
      "1924 852022.0\n",
      "1317 2409654.0\n",
      "1060 1093122.0\n",
      "950 869016.0\n",
      "1 618239.0\n",
      "478 975675.0\n",
      "1061 1461284.0\n",
      "1472 1054311.0\n",
      "1088 2725203.0\n",
      "2095 2041280.0\n",
      "1 1910177.0\n",
      "212 1003601.0\n",
      "531 3209791.0\n",
      "2452 1395536.0\n",
      "2094 2286050.0\n",
      "238 733761.0\n",
      "1958 1696178.0\n",
      "1977 1058528.0\n",
      "2019 987950.0\n",
      "0 1078800.0\n",
      "2291 907453.0\n",
      "2257 2792918.0\n",
      "97 540908.0\n",
      "103 535011.0\n",
      "1692 558863.0\n",
      "1787 608348.0\n",
      "14 1327005.0\n",
      "1338 1427069.0\n",
      "393281 1661809141.0\n",
      "4059 1557847.0\n",
      "323 7193764.0\n",
      "330 203977549.0\n",
      "452993419 1830432.0\n",
      "881624125 1942744055.0\n",
      "88839862 1258666036.0\n",
      "704681758 2758310.0\n",
      "774 3000575.0\n",
      "183 1488278.0\n"
     ]
    }
   ],
   "source": [
    "def get_daily_counts(row, max_counter):\n",
    "    \"\"\"\"\n",
    "    Cleans up turnstile counts. Corrects entries for the current day that are erroneously reported as lower than \n",
    "    the day prior. \n",
    "    \n",
    "    Arguments:\n",
    "    row (str): column name\n",
    "    max_counter (int): an upper threshold of acceptability to test after the correction is made\n",
    "    \n",
    "    Returns:\n",
    "    counter (float): updated value\n",
    "    \"\"\"\n",
    "    counter = row[\"ENTRIES\"] - row[\"PREV_ENTRIES\"]\n",
    "    if counter < 0:\n",
    "        # Presumes that the counter is reversed, so converts it to a positive number.\n",
    "        counter = -counter\n",
    "    if counter > max_counter:\n",
    "        # For situations where it is believed the cumulative counter was reset.  Takes the min of the two.\n",
    "        print(row[\"ENTRIES\"], row[\"PREV_ENTRIES\"])\n",
    "        counter = min(row[\"ENTRIES\"], row[\"PREV_ENTRIES\"])\n",
    "    if counter > max_counter:\n",
    "        # Final fail safe to ensure that the value is not outlandish.  If it is, sets to 0.\n",
    "        return 0\n",
    "    return counter\n",
    "\n",
    "# Sets the max counter value (here 500,000), and applies the function above to modify if necessary\n",
    "# the rows of the DAILY_ENTRIES column.\n",
    "entries_daily[\"DAILY_ENTRIES\"] = entries_daily.apply(get_daily_counts, axis=1, max_counter=500000)"
   ]
  },
  {
   "cell_type": "code",
   "execution_count": 49,
   "metadata": {},
   "outputs": [
    {
     "data": {
      "text/html": [
       "<div>\n",
       "<style scoped>\n",
       "    .dataframe tbody tr th:only-of-type {\n",
       "        vertical-align: middle;\n",
       "    }\n",
       "\n",
       "    .dataframe tbody tr th {\n",
       "        vertical-align: top;\n",
       "    }\n",
       "\n",
       "    .dataframe thead th {\n",
       "        text-align: right;\n",
       "    }\n",
       "</style>\n",
       "<table border=\"1\" class=\"dataframe\">\n",
       "  <thead>\n",
       "    <tr style=\"text-align: right;\">\n",
       "      <th></th>\n",
       "      <th>C/A</th>\n",
       "      <th>UNIT</th>\n",
       "      <th>SCP</th>\n",
       "      <th>STATION</th>\n",
       "      <th>LINENAME</th>\n",
       "      <th>DATE</th>\n",
       "      <th>ENTRIES</th>\n",
       "      <th>PREV_DATE</th>\n",
       "      <th>PREV_ENTRIES</th>\n",
       "      <th>DAILY_ENTRIES</th>\n",
       "    </tr>\n",
       "  </thead>\n",
       "  <tbody>\n",
       "    <tr>\n",
       "      <th>1</th>\n",
       "      <td>A002</td>\n",
       "      <td>R051</td>\n",
       "      <td>02-00-00</td>\n",
       "      <td>59 ST</td>\n",
       "      <td>NQR456W</td>\n",
       "      <td>05/26/2019</td>\n",
       "      <td>7073114</td>\n",
       "      <td>05/25/2019</td>\n",
       "      <td>7072456.0</td>\n",
       "      <td>658.0</td>\n",
       "    </tr>\n",
       "    <tr>\n",
       "      <th>2</th>\n",
       "      <td>A002</td>\n",
       "      <td>R051</td>\n",
       "      <td>02-00-00</td>\n",
       "      <td>59 ST</td>\n",
       "      <td>NQR456W</td>\n",
       "      <td>05/27/2019</td>\n",
       "      <td>7073837</td>\n",
       "      <td>05/26/2019</td>\n",
       "      <td>7073114.0</td>\n",
       "      <td>723.0</td>\n",
       "    </tr>\n",
       "    <tr>\n",
       "      <th>3</th>\n",
       "      <td>A002</td>\n",
       "      <td>R051</td>\n",
       "      <td>02-00-00</td>\n",
       "      <td>59 ST</td>\n",
       "      <td>NQR456W</td>\n",
       "      <td>05/28/2019</td>\n",
       "      <td>7075260</td>\n",
       "      <td>05/27/2019</td>\n",
       "      <td>7073837.0</td>\n",
       "      <td>1423.0</td>\n",
       "    </tr>\n",
       "    <tr>\n",
       "      <th>4</th>\n",
       "      <td>A002</td>\n",
       "      <td>R051</td>\n",
       "      <td>02-00-00</td>\n",
       "      <td>59 ST</td>\n",
       "      <td>NQR456W</td>\n",
       "      <td>05/29/2019</td>\n",
       "      <td>7076789</td>\n",
       "      <td>05/28/2019</td>\n",
       "      <td>7075260.0</td>\n",
       "      <td>1529.0</td>\n",
       "    </tr>\n",
       "    <tr>\n",
       "      <th>5</th>\n",
       "      <td>A002</td>\n",
       "      <td>R051</td>\n",
       "      <td>02-00-00</td>\n",
       "      <td>59 ST</td>\n",
       "      <td>NQR456W</td>\n",
       "      <td>05/30/2019</td>\n",
       "      <td>7078273</td>\n",
       "      <td>05/29/2019</td>\n",
       "      <td>7076789.0</td>\n",
       "      <td>1484.0</td>\n",
       "    </tr>\n",
       "    <tr>\n",
       "      <th>6</th>\n",
       "      <td>A002</td>\n",
       "      <td>R051</td>\n",
       "      <td>02-00-00</td>\n",
       "      <td>59 ST</td>\n",
       "      <td>NQR456W</td>\n",
       "      <td>05/31/2019</td>\n",
       "      <td>7079862</td>\n",
       "      <td>05/30/2019</td>\n",
       "      <td>7078273.0</td>\n",
       "      <td>1589.0</td>\n",
       "    </tr>\n",
       "    <tr>\n",
       "      <th>7</th>\n",
       "      <td>A002</td>\n",
       "      <td>R051</td>\n",
       "      <td>02-00-00</td>\n",
       "      <td>59 ST</td>\n",
       "      <td>NQR456W</td>\n",
       "      <td>06/01/2019</td>\n",
       "      <td>7080817</td>\n",
       "      <td>05/31/2019</td>\n",
       "      <td>7079862.0</td>\n",
       "      <td>955.0</td>\n",
       "    </tr>\n",
       "    <tr>\n",
       "      <th>8</th>\n",
       "      <td>A002</td>\n",
       "      <td>R051</td>\n",
       "      <td>02-00-00</td>\n",
       "      <td>59 ST</td>\n",
       "      <td>NQR456W</td>\n",
       "      <td>06/02/2019</td>\n",
       "      <td>7081567</td>\n",
       "      <td>06/01/2019</td>\n",
       "      <td>7080817.0</td>\n",
       "      <td>750.0</td>\n",
       "    </tr>\n",
       "    <tr>\n",
       "      <th>9</th>\n",
       "      <td>A002</td>\n",
       "      <td>R051</td>\n",
       "      <td>02-00-00</td>\n",
       "      <td>59 ST</td>\n",
       "      <td>NQR456W</td>\n",
       "      <td>06/03/2019</td>\n",
       "      <td>7082949</td>\n",
       "      <td>06/02/2019</td>\n",
       "      <td>7081567.0</td>\n",
       "      <td>1382.0</td>\n",
       "    </tr>\n",
       "    <tr>\n",
       "      <th>10</th>\n",
       "      <td>A002</td>\n",
       "      <td>R051</td>\n",
       "      <td>02-00-00</td>\n",
       "      <td>59 ST</td>\n",
       "      <td>NQR456W</td>\n",
       "      <td>06/04/2019</td>\n",
       "      <td>7084565</td>\n",
       "      <td>06/03/2019</td>\n",
       "      <td>7082949.0</td>\n",
       "      <td>1616.0</td>\n",
       "    </tr>\n",
       "  </tbody>\n",
       "</table>\n",
       "</div>"
      ],
      "text/plain": [
       "     C/A  UNIT       SCP STATION LINENAME        DATE  ENTRIES   PREV_DATE  \\\n",
       "1   A002  R051  02-00-00   59 ST  NQR456W  05/26/2019  7073114  05/25/2019   \n",
       "2   A002  R051  02-00-00   59 ST  NQR456W  05/27/2019  7073837  05/26/2019   \n",
       "3   A002  R051  02-00-00   59 ST  NQR456W  05/28/2019  7075260  05/27/2019   \n",
       "4   A002  R051  02-00-00   59 ST  NQR456W  05/29/2019  7076789  05/28/2019   \n",
       "5   A002  R051  02-00-00   59 ST  NQR456W  05/30/2019  7078273  05/29/2019   \n",
       "6   A002  R051  02-00-00   59 ST  NQR456W  05/31/2019  7079862  05/30/2019   \n",
       "7   A002  R051  02-00-00   59 ST  NQR456W  06/01/2019  7080817  05/31/2019   \n",
       "8   A002  R051  02-00-00   59 ST  NQR456W  06/02/2019  7081567  06/01/2019   \n",
       "9   A002  R051  02-00-00   59 ST  NQR456W  06/03/2019  7082949  06/02/2019   \n",
       "10  A002  R051  02-00-00   59 ST  NQR456W  06/04/2019  7084565  06/03/2019   \n",
       "\n",
       "    PREV_ENTRIES  DAILY_ENTRIES  \n",
       "1      7072456.0          658.0  \n",
       "2      7073114.0          723.0  \n",
       "3      7073837.0         1423.0  \n",
       "4      7075260.0         1529.0  \n",
       "5      7076789.0         1484.0  \n",
       "6      7078273.0         1589.0  \n",
       "7      7079862.0          955.0  \n",
       "8      7080817.0          750.0  \n",
       "9      7081567.0         1382.0  \n",
       "10     7082949.0         1616.0  "
      ]
     },
     "execution_count": 49,
     "metadata": {},
     "output_type": "execute_result"
    }
   ],
   "source": [
    "entries_daily.head(10)"
   ]
  },
  {
   "cell_type": "code",
   "execution_count": 50,
   "metadata": {},
   "outputs": [],
   "source": [
    "# Now we can remove the PREV_ENTRIES, PREV_DATE, and ENTRIES columns, since we are concerned\n",
    "# with the derived values in the DAILY_ENTRIES column\n",
    "\n",
    "entries_daily_new = entries_daily.drop(['PREV_ENTRIES', 'ENTRIES', 'PREV_DATE'], axis = 1, errors = 'ignore')"
   ]
  },
  {
   "cell_type": "markdown",
   "metadata": {},
   "source": [
    "## Removing Outliers"
   ]
  },
  {
   "cell_type": "code",
   "execution_count": 51,
   "metadata": {},
   "outputs": [],
   "source": [
    "# Takes z-scores for the daily entries.  In reviewing the code now, it seems that z-scores should have\n",
    "# been taken for each station individually, while this code appear to derive z scores from the entire mass\n",
    "# of stations at once.\n",
    "# A pythonic way to tackle this correctly would be highly useful.\n",
    "\n",
    "entries_daily_new['Z-SCORE'] = np.abs(stats.zscore(entries_daily_new['DAILY_ENTRIES']))"
   ]
  },
  {
   "cell_type": "code",
   "execution_count": 52,
   "metadata": {},
   "outputs": [
    {
     "data": {
      "text/plain": [
       "count    131143.000000\n",
       "mean          0.137724\n",
       "std           0.990474\n",
       "min           0.000056\n",
       "25%           0.051411\n",
       "50%           0.100763\n",
       "75%           0.152242\n",
       "max          61.223994\n",
       "Name: Z-SCORE, dtype: float64"
      ]
     },
     "execution_count": 52,
     "metadata": {},
     "output_type": "execute_result"
    }
   ],
   "source": [
    "# Summary statistics on the Z-scores.  The existence of absurdly high z-score values make much more sense in light of the \n",
    "# above issue.\n",
    "\n",
    "entries_daily_new['Z-SCORE'].describe()"
   ]
  },
  {
   "cell_type": "code",
   "execution_count": 53,
   "metadata": {},
   "outputs": [
    {
     "data": {
      "text/html": [
       "<div>\n",
       "<style scoped>\n",
       "    .dataframe tbody tr th:only-of-type {\n",
       "        vertical-align: middle;\n",
       "    }\n",
       "\n",
       "    .dataframe tbody tr th {\n",
       "        vertical-align: top;\n",
       "    }\n",
       "\n",
       "    .dataframe thead th {\n",
       "        text-align: right;\n",
       "    }\n",
       "</style>\n",
       "<table border=\"1\" class=\"dataframe\">\n",
       "  <thead>\n",
       "    <tr style=\"text-align: right;\">\n",
       "      <th></th>\n",
       "      <th>C/A</th>\n",
       "      <th>UNIT</th>\n",
       "      <th>SCP</th>\n",
       "      <th>STATION</th>\n",
       "      <th>LINENAME</th>\n",
       "      <th>DATE</th>\n",
       "      <th>DAILY_ENTRIES</th>\n",
       "      <th>Z-SCORE</th>\n",
       "    </tr>\n",
       "  </thead>\n",
       "  <tbody>\n",
       "    <tr>\n",
       "      <th>4516</th>\n",
       "      <td>A043</td>\n",
       "      <td>R462</td>\n",
       "      <td>00-06-00</td>\n",
       "      <td>CANAL ST</td>\n",
       "      <td>JNQRZ6W</td>\n",
       "      <td>06/02/2019</td>\n",
       "      <td>491117.0</td>\n",
       "      <td>60.598100</td>\n",
       "    </tr>\n",
       "    <tr>\n",
       "      <th>10140</th>\n",
       "      <td>B020</td>\n",
       "      <td>R263</td>\n",
       "      <td>00-03-00</td>\n",
       "      <td>AVENUE H</td>\n",
       "      <td>BQ</td>\n",
       "      <td>06/07/2019</td>\n",
       "      <td>185731.0</td>\n",
       "      <td>22.816067</td>\n",
       "    </tr>\n",
       "    <tr>\n",
       "      <th>12123</th>\n",
       "      <td>B028</td>\n",
       "      <td>R136</td>\n",
       "      <td>01-00-01</td>\n",
       "      <td>SHEEPSHEAD BAY</td>\n",
       "      <td>BQ</td>\n",
       "      <td>06/02/2019</td>\n",
       "      <td>40449.0</td>\n",
       "      <td>4.841932</td>\n",
       "    </tr>\n",
       "    <tr>\n",
       "      <th>23879</th>\n",
       "      <td>J001</td>\n",
       "      <td>R460</td>\n",
       "      <td>01-06-02</td>\n",
       "      <td>MARCY AV</td>\n",
       "      <td>JMZ</td>\n",
       "      <td>06/16/2019</td>\n",
       "      <td>127344.0</td>\n",
       "      <td>15.592490</td>\n",
       "    </tr>\n",
       "    <tr>\n",
       "      <th>26681</th>\n",
       "      <td>JFK02</td>\n",
       "      <td>R535</td>\n",
       "      <td>01-00-03</td>\n",
       "      <td>HOWARD BCH JFK</td>\n",
       "      <td>A</td>\n",
       "      <td>06/18/2019</td>\n",
       "      <td>11584.0</td>\n",
       "      <td>1.270785</td>\n",
       "    </tr>\n",
       "    <tr>\n",
       "      <th>...</th>\n",
       "      <td>...</td>\n",
       "      <td>...</td>\n",
       "      <td>...</td>\n",
       "      <td>...</td>\n",
       "      <td>...</td>\n",
       "      <td>...</td>\n",
       "      <td>...</td>\n",
       "      <td>...</td>\n",
       "    </tr>\n",
       "    <tr>\n",
       "      <th>111949</th>\n",
       "      <td>R287</td>\n",
       "      <td>R244</td>\n",
       "      <td>00-06-00</td>\n",
       "      <td>BURNSIDE AV</td>\n",
       "      <td>4</td>\n",
       "      <td>06/14/2019</td>\n",
       "      <td>274118.0</td>\n",
       "      <td>33.751213</td>\n",
       "    </tr>\n",
       "    <tr>\n",
       "      <th>120408</th>\n",
       "      <td>R501</td>\n",
       "      <td>R054</td>\n",
       "      <td>00-00-01</td>\n",
       "      <td>5 AVE</td>\n",
       "      <td>7BDFM</td>\n",
       "      <td>06/08/2019</td>\n",
       "      <td>13782.0</td>\n",
       "      <td>1.542719</td>\n",
       "    </tr>\n",
       "    <tr>\n",
       "      <th>120431</th>\n",
       "      <td>R501</td>\n",
       "      <td>R054</td>\n",
       "      <td>00-00-02</td>\n",
       "      <td>5 AVE</td>\n",
       "      <td>7BDFM</td>\n",
       "      <td>06/08/2019</td>\n",
       "      <td>11346.0</td>\n",
       "      <td>1.241340</td>\n",
       "    </tr>\n",
       "    <tr>\n",
       "      <th>120592</th>\n",
       "      <td>R501</td>\n",
       "      <td>R054</td>\n",
       "      <td>00-06-01</td>\n",
       "      <td>5 AVE</td>\n",
       "      <td>7BDFM</td>\n",
       "      <td>06/08/2019</td>\n",
       "      <td>14748.0</td>\n",
       "      <td>1.662232</td>\n",
       "    </tr>\n",
       "    <tr>\n",
       "      <th>129733</th>\n",
       "      <td>R610</td>\n",
       "      <td>R057</td>\n",
       "      <td>00-04-01</td>\n",
       "      <td>ATL AV-BARCLAY</td>\n",
       "      <td>2345BDNQR</td>\n",
       "      <td>06/21/2019</td>\n",
       "      <td>28485.0</td>\n",
       "      <td>3.361759</td>\n",
       "    </tr>\n",
       "  </tbody>\n",
       "</table>\n",
       "<p>274 rows × 8 columns</p>\n",
       "</div>"
      ],
      "text/plain": [
       "          C/A  UNIT       SCP         STATION   LINENAME        DATE  \\\n",
       "4516     A043  R462  00-06-00        CANAL ST    JNQRZ6W  06/02/2019   \n",
       "10140    B020  R263  00-03-00        AVENUE H         BQ  06/07/2019   \n",
       "12123    B028  R136  01-00-01  SHEEPSHEAD BAY         BQ  06/02/2019   \n",
       "23879    J001  R460  01-06-02        MARCY AV        JMZ  06/16/2019   \n",
       "26681   JFK02  R535  01-00-03  HOWARD BCH JFK          A  06/18/2019   \n",
       "...       ...   ...       ...             ...        ...         ...   \n",
       "111949   R287  R244  00-06-00     BURNSIDE AV          4  06/14/2019   \n",
       "120408   R501  R054  00-00-01           5 AVE      7BDFM  06/08/2019   \n",
       "120431   R501  R054  00-00-02           5 AVE      7BDFM  06/08/2019   \n",
       "120592   R501  R054  00-06-01           5 AVE      7BDFM  06/08/2019   \n",
       "129733   R610  R057  00-04-01  ATL AV-BARCLAY  2345BDNQR  06/21/2019   \n",
       "\n",
       "        DAILY_ENTRIES    Z-SCORE  \n",
       "4516         491117.0  60.598100  \n",
       "10140        185731.0  22.816067  \n",
       "12123         40449.0   4.841932  \n",
       "23879        127344.0  15.592490  \n",
       "26681         11584.0   1.270785  \n",
       "...               ...        ...  \n",
       "111949       274118.0  33.751213  \n",
       "120408        13782.0   1.542719  \n",
       "120431        11346.0   1.241340  \n",
       "120592        14748.0   1.662232  \n",
       "129733        28485.0   3.361759  \n",
       "\n",
       "[274 rows x 8 columns]"
      ]
     },
     "execution_count": 53,
     "metadata": {},
     "output_type": "execute_result"
    }
   ],
   "source": [
    "# Getting an idea of how many daily entries with a z-score above 1 exist.\n",
    "\n",
    "entries_daily_new[(entries_daily_new['Z-SCORE'] > 1)]"
   ]
  },
  {
   "cell_type": "code",
   "execution_count": 54,
   "metadata": {},
   "outputs": [
    {
     "name": "stdout",
     "output_type": "stream",
     "text": [
      "<class 'pandas.core.frame.DataFrame'>\n",
      "Int64Index: 131143 entries, 1 to 136027\n",
      "Data columns (total 8 columns):\n",
      " #   Column         Non-Null Count   Dtype  \n",
      "---  ------         --------------   -----  \n",
      " 0   C/A            131143 non-null  object \n",
      " 1   UNIT           131143 non-null  object \n",
      " 2   SCP            131143 non-null  object \n",
      " 3   STATION        131143 non-null  object \n",
      " 4   LINENAME       131143 non-null  object \n",
      " 5   DATE           131143 non-null  object \n",
      " 6   DAILY_ENTRIES  131143 non-null  float64\n",
      " 7   Z-SCORE        131143 non-null  float64\n",
      "dtypes: float64(2), object(6)\n",
      "memory usage: 9.0+ MB\n"
     ]
    }
   ],
   "source": [
    "#Examining the columns and data types\n",
    "\n",
    "entries_daily_new.info()"
   ]
  },
  {
   "cell_type": "code",
   "execution_count": 55,
   "metadata": {
    "scrolled": true
   },
   "outputs": [
    {
     "data": {
      "text/plain": [
       "count    131143.000000\n",
       "mean       1312.451759\n",
       "std        8082.867600\n",
       "min           0.000000\n",
       "25%         269.000000\n",
       "50%         799.000000\n",
       "75%        1564.000000\n",
       "max      496176.000000\n",
       "Name: DAILY_ENTRIES, dtype: float64"
      ]
     },
     "execution_count": 55,
     "metadata": {},
     "output_type": "execute_result"
    }
   ],
   "source": [
    "entries_daily_new.DAILY_ENTRIES.describe()"
   ]
  },
  {
   "cell_type": "code",
   "execution_count": 56,
   "metadata": {},
   "outputs": [],
   "source": [
    "# Keep only data with Z-scores less than 2 in order to remove outliers\n",
    "entries_daily_clean = entries_daily_new[(entries_daily_new['Z-SCORE'] < 2)]"
   ]
  },
  {
   "cell_type": "markdown",
   "metadata": {},
   "source": [
    "### Daily Entries for Top Stations"
   ]
  },
  {
   "cell_type": "code",
   "execution_count": 57,
   "metadata": {},
   "outputs": [
    {
     "data": {
      "text/plain": [
       "MultiIndex([('GRD CNTRL-42 ST',        '4567S'),\n",
       "            ('34 ST-HERALD SQ',     'BDFMNQRW'),\n",
       "            ('42 ST-PORT AUTH', 'ACENQRS1237W'),\n",
       "            ( '34 ST-PENN STA',          'ACE'),\n",
       "            ( '14 ST-UNION SQ',     'LNQR456W'),\n",
       "            ( 'TIMES SQ-42 ST', '1237ACENQRSW'),\n",
       "            (      'FULTON ST',     '2345ACJZ'),\n",
       "            ( '47-50 STS ROCK',         'BDFM'),\n",
       "            (  'FLUSHING-MAIN',            '7'),\n",
       "            ( '59 ST COLUMBUS',        'ABCD1'),\n",
       "            (   'PATH NEW WTC',            '1'),\n",
       "            ('JKSN HT-ROOSVLT',        'EFMR7'),\n",
       "            ( '34 ST-PENN STA',       '123ACE'),\n",
       "            (       'CANAL ST',      'JNQRZ6W'),\n",
       "            ( 'W 4 ST-WASH SQ',      'ABCDEFM'),\n",
       "            (          '86 ST',          '456'),\n",
       "            ('42 ST-BRYANT PK',        'BDFM7'),\n",
       "            (          '59 ST',      '456NQRW'),\n",
       "            ('LEXINGTON AV/53',          'EM6'),\n",
       "            (          '96 ST',          '123'),\n",
       "            (          '72 ST',          '123'),\n",
       "            (     '57 ST-7 AV',         'NQRW'),\n",
       "            ('JAY ST-METROTEC',          'ACF'),\n",
       "            ( '34 ST-PENN STA',          '123'),\n",
       "            ( '14 ST-UNION SQ',     '456LNQRW'),\n",
       "            ( 'JAMAICA CENTER',          'EJZ'),\n",
       "            (    '72 ST-2 AVE',            'Q'),\n",
       "            (   'BOROUGH HALL',        '2345R'),\n",
       "            (         '125 ST',         'ACBD'),\n",
       "            (      'FULTON ST',     'ACJZ2345'),\n",
       "            (         '125 ST',          '456'),\n",
       "            (  'BOWLING GREEN',           '45'),\n",
       "            ( 'DELANCEY/ESSEX',         'FJMZ'),\n",
       "            (          '33 ST',            '6'),\n",
       "            (          '23 ST',           'FM'),\n",
       "            (    '86 ST-2 AVE',            'Q'),\n",
       "            ('FOREST HILLS 71',         'EFMR'),\n",
       "            ('CROWN HTS-UTICA',           '34'),\n",
       "            (          '50 ST',            '1'),\n",
       "            (       'GRAND ST',           'BD'),\n",
       "            ( 'JOURNAL SQUARE',            '1'),\n",
       "            (    'CHAMBERS ST',        'ACE23'),\n",
       "            (     'BEDFORD AV',            'L'),\n",
       "            (          '77 ST',            '6'),\n",
       "            (    'KEW GARDENS',           'EF'),\n",
       "            (     '5 AV/53 ST',           'EM'),\n",
       "            (           '8 AV',         'ACEL'),\n",
       "            (          '23 ST',            '6'),\n",
       "            ('THIRTY THIRD ST',            '1'),\n",
       "            (          '14 ST',       '123FLM')],\n",
       "           names=['STATION', 'LINENAME'])"
      ]
     },
     "execution_count": 57,
     "metadata": {},
     "output_type": "execute_result"
    }
   ],
   "source": [
    "# Generate array of top 50 stations including line name\n",
    "# Differentiating by line name can split stations with the same name but are physically different\n",
    "top_stations = entries_daily_clean.groupby(['STATION','LINENAME']).sum().sort_values('DAILY_ENTRIES', ascending = False).head(50).index[0:50]\n",
    "\n",
    "top_stations"
   ]
  },
  {
   "cell_type": "markdown",
   "metadata": {},
   "source": [
    "## Distribution of daily entries by station, for top 10 stations by volume"
   ]
  },
  {
   "cell_type": "code",
   "execution_count": 58,
   "metadata": {},
   "outputs": [
    {
     "data": {
      "text/html": [
       "<div>\n",
       "<style scoped>\n",
       "    .dataframe tbody tr th:only-of-type {\n",
       "        vertical-align: middle;\n",
       "    }\n",
       "\n",
       "    .dataframe tbody tr th {\n",
       "        vertical-align: top;\n",
       "    }\n",
       "\n",
       "    .dataframe thead th {\n",
       "        text-align: right;\n",
       "    }\n",
       "</style>\n",
       "<table border=\"1\" class=\"dataframe\">\n",
       "  <thead>\n",
       "    <tr style=\"text-align: right;\">\n",
       "      <th></th>\n",
       "      <th>STATION</th>\n",
       "      <th>LINENAME</th>\n",
       "      <th>DATE</th>\n",
       "      <th>DAILY_ENTRIES</th>\n",
       "    </tr>\n",
       "  </thead>\n",
       "  <tbody>\n",
       "    <tr>\n",
       "      <th>0</th>\n",
       "      <td>1 AV</td>\n",
       "      <td>L</td>\n",
       "      <td>05/26/2019</td>\n",
       "      <td>5172.0</td>\n",
       "    </tr>\n",
       "    <tr>\n",
       "      <th>1</th>\n",
       "      <td>1 AV</td>\n",
       "      <td>L</td>\n",
       "      <td>05/27/2019</td>\n",
       "      <td>4808.0</td>\n",
       "    </tr>\n",
       "    <tr>\n",
       "      <th>2</th>\n",
       "      <td>1 AV</td>\n",
       "      <td>L</td>\n",
       "      <td>05/28/2019</td>\n",
       "      <td>16825.0</td>\n",
       "    </tr>\n",
       "    <tr>\n",
       "      <th>3</th>\n",
       "      <td>1 AV</td>\n",
       "      <td>L</td>\n",
       "      <td>05/29/2019</td>\n",
       "      <td>18800.0</td>\n",
       "    </tr>\n",
       "    <tr>\n",
       "      <th>4</th>\n",
       "      <td>1 AV</td>\n",
       "      <td>L</td>\n",
       "      <td>05/30/2019</td>\n",
       "      <td>18948.0</td>\n",
       "    </tr>\n",
       "  </tbody>\n",
       "</table>\n",
       "</div>"
      ],
      "text/plain": [
       "  STATION LINENAME        DATE  DAILY_ENTRIES\n",
       "0    1 AV        L  05/26/2019         5172.0\n",
       "1    1 AV        L  05/27/2019         4808.0\n",
       "2    1 AV        L  05/28/2019        16825.0\n",
       "3    1 AV        L  05/29/2019        18800.0\n",
       "4    1 AV        L  05/30/2019        18948.0"
      ]
     },
     "execution_count": 58,
     "metadata": {},
     "output_type": "execute_result"
    }
   ],
   "source": [
    "# first get daily entries by station\n",
    "\n",
    "stations_daily = \\\n",
    "(entries_daily_clean.groupby(['STATION','LINENAME','DATE'])['DAILY_ENTRIES'].sum()\n",
    "                 .reset_index())\n",
    "\n",
    "stations_daily.head()"
   ]
  },
  {
   "cell_type": "code",
   "execution_count": 59,
   "metadata": {},
   "outputs": [
    {
     "data": {
      "text/html": [
       "<div>\n",
       "<style scoped>\n",
       "    .dataframe tbody tr th:only-of-type {\n",
       "        vertical-align: middle;\n",
       "    }\n",
       "\n",
       "    .dataframe tbody tr th {\n",
       "        vertical-align: top;\n",
       "    }\n",
       "\n",
       "    .dataframe thead th {\n",
       "        text-align: right;\n",
       "    }\n",
       "</style>\n",
       "<table border=\"1\" class=\"dataframe\">\n",
       "  <thead>\n",
       "    <tr style=\"text-align: right;\">\n",
       "      <th></th>\n",
       "      <th>STATION</th>\n",
       "      <th>LINENAME</th>\n",
       "    </tr>\n",
       "  </thead>\n",
       "  <tbody>\n",
       "    <tr>\n",
       "      <th>312</th>\n",
       "      <td>GRD CNTRL-42 ST</td>\n",
       "      <td>4567S</td>\n",
       "    </tr>\n",
       "    <tr>\n",
       "      <th>90</th>\n",
       "      <td>34 ST-HERALD SQ</td>\n",
       "      <td>BDFMNQRW</td>\n",
       "    </tr>\n",
       "    <tr>\n",
       "      <th>103</th>\n",
       "      <td>42 ST-PORT AUTH</td>\n",
       "      <td>ACENQRS1237W</td>\n",
       "    </tr>\n",
       "    <tr>\n",
       "      <th>94</th>\n",
       "      <td>34 ST-PENN STA</td>\n",
       "      <td>ACE</td>\n",
       "    </tr>\n",
       "    <tr>\n",
       "      <th>28</th>\n",
       "      <td>14 ST-UNION SQ</td>\n",
       "      <td>LNQR456W</td>\n",
       "    </tr>\n",
       "    <tr>\n",
       "      <th>448</th>\n",
       "      <td>TIMES SQ-42 ST</td>\n",
       "      <td>1237ACENQRSW</td>\n",
       "    </tr>\n",
       "    <tr>\n",
       "      <th>302</th>\n",
       "      <td>FULTON ST</td>\n",
       "      <td>2345ACJZ</td>\n",
       "    </tr>\n",
       "    <tr>\n",
       "      <th>107</th>\n",
       "      <td>47-50 STS ROCK</td>\n",
       "      <td>BDFM</td>\n",
       "    </tr>\n",
       "    <tr>\n",
       "      <th>126</th>\n",
       "      <td>59 ST COLUMBUS</td>\n",
       "      <td>ABCD1</td>\n",
       "    </tr>\n",
       "    <tr>\n",
       "      <th>404</th>\n",
       "      <td>PATH NEW WTC</td>\n",
       "      <td>1</td>\n",
       "    </tr>\n",
       "  </tbody>\n",
       "</table>\n",
       "</div>"
      ],
      "text/plain": [
       "             STATION      LINENAME\n",
       "312  GRD CNTRL-42 ST         4567S\n",
       "90   34 ST-HERALD SQ      BDFMNQRW\n",
       "103  42 ST-PORT AUTH  ACENQRS1237W\n",
       "94    34 ST-PENN STA           ACE\n",
       "28    14 ST-UNION SQ      LNQR456W\n",
       "448   TIMES SQ-42 ST  1237ACENQRSW\n",
       "302        FULTON ST      2345ACJZ\n",
       "107   47-50 STS ROCK          BDFM\n",
       "126   59 ST COLUMBUS         ABCD1\n",
       "404     PATH NEW WTC             1"
      ]
     },
     "execution_count": 59,
     "metadata": {},
     "output_type": "execute_result"
    }
   ],
   "source": [
    "# then get top 10 stations by daily volume \n",
    "# (sum across all days is a reasonable way to define this)\n",
    "\n",
    "top10_stations = \\\n",
    "    (stations_daily.groupby(['STATION','LINENAME'])['DAILY_ENTRIES'].sum()\n",
    "                   .reset_index()\n",
    "                   .sort_values(by='DAILY_ENTRIES',ascending=False)[['STATION','LINENAME']].head(11))\n",
    "\n",
    "# 'FLUSHING-MAIN' isn't located in Manhattan\n",
    "# Focusing on Manhattan where there is a larger concentration of tech companies\n",
    "\n",
    "top10_manhattan = top10_stations[(top10_stations['STATION'] != 'FLUSHING-MAIN')]\n",
    "\n",
    "top10_manhattan"
   ]
  },
  {
   "cell_type": "code",
   "execution_count": 60,
   "metadata": {},
   "outputs": [],
   "source": [
    "# next create a new df that filters the stations daily data down\n",
    "# to the top 10 stations\n",
    "stations_daily_top10 = \\\n",
    "    stations_daily[stations_daily['STATION'].isin(top10_manhattan['STATION'])]"
   ]
  },
  {
   "cell_type": "code",
   "execution_count": 61,
   "metadata": {
    "scrolled": true
   },
   "outputs": [
    {
     "data": {
      "text/html": [
       "<div>\n",
       "<style scoped>\n",
       "    .dataframe tbody tr th:only-of-type {\n",
       "        vertical-align: middle;\n",
       "    }\n",
       "\n",
       "    .dataframe tbody tr th {\n",
       "        vertical-align: top;\n",
       "    }\n",
       "\n",
       "    .dataframe thead th {\n",
       "        text-align: right;\n",
       "    }\n",
       "</style>\n",
       "<table border=\"1\" class=\"dataframe\">\n",
       "  <thead>\n",
       "    <tr style=\"text-align: right;\">\n",
       "      <th></th>\n",
       "      <th>STATION</th>\n",
       "      <th>LINENAME</th>\n",
       "      <th>DATE</th>\n",
       "      <th>DAILY_ENTRIES</th>\n",
       "    </tr>\n",
       "  </thead>\n",
       "  <tbody>\n",
       "    <tr>\n",
       "      <th>715</th>\n",
       "      <td>14 ST-UNION SQ</td>\n",
       "      <td>456LNQRW</td>\n",
       "      <td>05/26/2019</td>\n",
       "      <td>18321.0</td>\n",
       "    </tr>\n",
       "    <tr>\n",
       "      <th>716</th>\n",
       "      <td>14 ST-UNION SQ</td>\n",
       "      <td>456LNQRW</td>\n",
       "      <td>05/27/2019</td>\n",
       "      <td>16989.0</td>\n",
       "    </tr>\n",
       "    <tr>\n",
       "      <th>717</th>\n",
       "      <td>14 ST-UNION SQ</td>\n",
       "      <td>456LNQRW</td>\n",
       "      <td>05/28/2019</td>\n",
       "      <td>29121.0</td>\n",
       "    </tr>\n",
       "    <tr>\n",
       "      <th>718</th>\n",
       "      <td>14 ST-UNION SQ</td>\n",
       "      <td>456LNQRW</td>\n",
       "      <td>05/29/2019</td>\n",
       "      <td>31089.0</td>\n",
       "    </tr>\n",
       "    <tr>\n",
       "      <th>719</th>\n",
       "      <td>14 ST-UNION SQ</td>\n",
       "      <td>456LNQRW</td>\n",
       "      <td>05/30/2019</td>\n",
       "      <td>31779.0</td>\n",
       "    </tr>\n",
       "    <tr>\n",
       "      <th>...</th>\n",
       "      <td>...</td>\n",
       "      <td>...</td>\n",
       "      <td>...</td>\n",
       "      <td>...</td>\n",
       "    </tr>\n",
       "    <tr>\n",
       "      <th>12117</th>\n",
       "      <td>TIMES SQ-42 ST</td>\n",
       "      <td>ACENQRS1237W</td>\n",
       "      <td>06/17/2019</td>\n",
       "      <td>15557.0</td>\n",
       "    </tr>\n",
       "    <tr>\n",
       "      <th>12118</th>\n",
       "      <td>TIMES SQ-42 ST</td>\n",
       "      <td>ACENQRS1237W</td>\n",
       "      <td>06/18/2019</td>\n",
       "      <td>17615.0</td>\n",
       "    </tr>\n",
       "    <tr>\n",
       "      <th>12119</th>\n",
       "      <td>TIMES SQ-42 ST</td>\n",
       "      <td>ACENQRS1237W</td>\n",
       "      <td>06/19/2019</td>\n",
       "      <td>17316.0</td>\n",
       "    </tr>\n",
       "    <tr>\n",
       "      <th>12120</th>\n",
       "      <td>TIMES SQ-42 ST</td>\n",
       "      <td>ACENQRS1237W</td>\n",
       "      <td>06/20/2019</td>\n",
       "      <td>17207.0</td>\n",
       "    </tr>\n",
       "    <tr>\n",
       "      <th>12121</th>\n",
       "      <td>TIMES SQ-42 ST</td>\n",
       "      <td>ACENQRS1237W</td>\n",
       "      <td>06/21/2019</td>\n",
       "      <td>14947.0</td>\n",
       "    </tr>\n",
       "  </tbody>\n",
       "</table>\n",
       "<p>513 rows × 4 columns</p>\n",
       "</div>"
      ],
      "text/plain": [
       "              STATION      LINENAME        DATE  DAILY_ENTRIES\n",
       "715    14 ST-UNION SQ      456LNQRW  05/26/2019        18321.0\n",
       "716    14 ST-UNION SQ      456LNQRW  05/27/2019        16989.0\n",
       "717    14 ST-UNION SQ      456LNQRW  05/28/2019        29121.0\n",
       "718    14 ST-UNION SQ      456LNQRW  05/29/2019        31089.0\n",
       "719    14 ST-UNION SQ      456LNQRW  05/30/2019        31779.0\n",
       "...               ...           ...         ...            ...\n",
       "12117  TIMES SQ-42 ST  ACENQRS1237W  06/17/2019        15557.0\n",
       "12118  TIMES SQ-42 ST  ACENQRS1237W  06/18/2019        17615.0\n",
       "12119  TIMES SQ-42 ST  ACENQRS1237W  06/19/2019        17316.0\n",
       "12120  TIMES SQ-42 ST  ACENQRS1237W  06/20/2019        17207.0\n",
       "12121  TIMES SQ-42 ST  ACENQRS1237W  06/21/2019        14947.0\n",
       "\n",
       "[513 rows x 4 columns]"
      ]
     },
     "execution_count": 61,
     "metadata": {},
     "output_type": "execute_result"
    }
   ],
   "source": [
    "stations_daily_top10"
   ]
  },
  {
   "cell_type": "markdown",
   "metadata": {},
   "source": [
    "## Visualizations"
   ]
  },
  {
   "cell_type": "code",
   "execution_count": 62,
   "metadata": {},
   "outputs": [
    {
     "data": {
      "text/plain": [
       "<matplotlib.axes._subplots.AxesSubplot at 0x1a21e79dd0>"
      ]
     },
     "execution_count": 62,
     "metadata": {},
     "output_type": "execute_result"
    },
    {
     "data": {
      "image/png": "[encoded data removed]",
      "text/plain": [
       "<Figure size 432x288 with 1 Axes>"
      ]
     },
     "metadata": {
      "needs_background": "light"
     },
     "output_type": "display_data"
    }
   ],
   "source": [
    "# use seaborn to create a boxplot by station\n",
    "\n",
    "sns.boxplot('DAILY_ENTRIES', 'STATION', data=stations_daily_top10)"
   ]
  },
  {
   "cell_type": "code",
   "execution_count": 63,
   "metadata": {},
   "outputs": [
    {
     "data": {
      "text/plain": [
       "<matplotlib.axes._subplots.AxesSubplot at 0x1a21e05110>"
      ]
     },
     "execution_count": 63,
     "metadata": {},
     "output_type": "execute_result"
    },
    {
     "data": {
      "image/png": "[encoded data removed]",
      "text/plain": [
       "<Figure size 432x288 with 1 Axes>"
      ]
     },
     "metadata": {
      "needs_background": "light"
     },
     "output_type": "display_data"
    }
   ],
   "source": [
    "sns.kdeplot(entries_daily_clean[(entries_daily_clean['STATION'] == '14 ST-UNION SQ') & \n",
    "                                  (entries_daily_clean['LINENAME'] == '456LNQRW')]['DAILY_ENTRIES'])"
   ]
  },
  {
   "cell_type": "code",
   "execution_count": 64,
   "metadata": {},
   "outputs": [],
   "source": [
    "# Copy clean data frame to a new one to avoid confusion\n",
    "\n",
    "entries_daily_date = entries_daily_clean"
   ]
  },
  {
   "cell_type": "code",
   "execution_count": 65,
   "metadata": {},
   "outputs": [
    {
     "name": "stdout",
     "output_type": "stream",
     "text": [
      "<class 'pandas.core.frame.DataFrame'>\n",
      "Int64Index: 130908 entries, 1 to 136027\n",
      "Data columns (total 8 columns):\n",
      " #   Column         Non-Null Count   Dtype  \n",
      "---  ------         --------------   -----  \n",
      " 0   C/A            130908 non-null  object \n",
      " 1   UNIT           130908 non-null  object \n",
      " 2   SCP            130908 non-null  object \n",
      " 3   STATION        130908 non-null  object \n",
      " 4   LINENAME       130908 non-null  object \n",
      " 5   DATE           130908 non-null  object \n",
      " 6   DAILY_ENTRIES  130908 non-null  float64\n",
      " 7   Z-SCORE        130908 non-null  float64\n",
      "dtypes: float64(2), object(6)\n",
      "memory usage: 9.0+ MB\n"
     ]
    }
   ],
   "source": [
    "# Check types of data (specifically for the date) in dataframe\n",
    "\n",
    "entries_daily_date.info()"
   ]
  },
  {
   "cell_type": "code",
   "execution_count": 66,
   "metadata": {},
   "outputs": [
    {
     "name": "stderr",
     "output_type": "stream",
     "text": [
      "/Users/wasilaq/opt/anaconda3/lib/python3.7/site-packages/ipykernel_launcher.py:4: SettingWithCopyWarning: \n",
      "A value is trying to be set on a copy of a slice from a DataFrame.\n",
      "Try using .loc[row_indexer,col_indexer] = value instead\n",
      "\n",
      "See the caveats in the documentation: https://pandas.pydata.org/pandas-docs/stable/user_guide/indexing.html#returning-a-view-versus-a-copy\n",
      "  after removing the cwd from sys.path.\n"
     ]
    }
   ],
   "source": [
    "# DATE is still showing as \"object\" data type. \n",
    "# Convert it to datetime\n",
    "\n",
    "entries_daily_date['DATE'] = pd.to_datetime(entries_daily_date['DATE'])"
   ]
  },
  {
   "cell_type": "code",
   "execution_count": 67,
   "metadata": {},
   "outputs": [
    {
     "name": "stdout",
     "output_type": "stream",
     "text": [
      "<class 'pandas.core.frame.DataFrame'>\n",
      "Int64Index: 130908 entries, 1 to 136027\n",
      "Data columns (total 8 columns):\n",
      " #   Column         Non-Null Count   Dtype         \n",
      "---  ------         --------------   -----         \n",
      " 0   C/A            130908 non-null  object        \n",
      " 1   UNIT           130908 non-null  object        \n",
      " 2   SCP            130908 non-null  object        \n",
      " 3   STATION        130908 non-null  object        \n",
      " 4   LINENAME       130908 non-null  object        \n",
      " 5   DATE           130908 non-null  datetime64[ns]\n",
      " 6   DAILY_ENTRIES  130908 non-null  float64       \n",
      " 7   Z-SCORE        130908 non-null  float64       \n",
      "dtypes: datetime64[ns](1), float64(2), object(5)\n",
      "memory usage: 9.0+ MB\n"
     ]
    }
   ],
   "source": [
    "# Check to see if it's datetime datatype again\n",
    "\n",
    "entries_daily_date.info()"
   ]
  },
  {
   "cell_type": "code",
   "execution_count": 68,
   "metadata": {},
   "outputs": [
    {
     "name": "stdout",
     "output_type": "stream",
     "text": [
      "<class 'pandas.core.frame.DataFrame'>\n",
      "DatetimeIndex: 130908 entries, 2019-05-26 to 2019-06-21\n",
      "Data columns (total 7 columns):\n",
      " #   Column         Non-Null Count   Dtype  \n",
      "---  ------         --------------   -----  \n",
      " 0   C/A            130908 non-null  object \n",
      " 1   UNIT           130908 non-null  object \n",
      " 2   SCP            130908 non-null  object \n",
      " 3   STATION        130908 non-null  object \n",
      " 4   LINENAME       130908 non-null  object \n",
      " 5   DAILY_ENTRIES  130908 non-null  float64\n",
      " 6   Z-SCORE        130908 non-null  float64\n",
      "dtypes: float64(2), object(5)\n",
      "memory usage: 8.0+ MB\n"
     ]
    }
   ],
   "source": [
    "# Set as index (probably could have done this in one step)\n",
    "entries_daily_date = entries_daily_date.set_index('DATE')\n",
    "\n",
    "# Check to see if it's a datetime index\n",
    "entries_daily_date.info()"
   ]
  },
  {
   "cell_type": "code",
   "execution_count": 69,
   "metadata": {},
   "outputs": [
    {
     "data": {
      "text/plain": [
       "<matplotlib.axes._subplots.AxesSubplot at 0x1a21edc510>"
      ]
     },
     "execution_count": 69,
     "metadata": {},
     "output_type": "execute_result"
    },
    {
     "data": {
      "image/png": "[encoded data removed]",
      "text/plain": [
       "<Figure size 432x288 with 1 Axes>"
      ]
     },
     "metadata": {
      "needs_background": "light"
     },
     "output_type": "display_data"
    }
   ],
   "source": [
    "# Generate plot of DAILY_ENTRIES by date for all data\n",
    "\n",
    "entries_daily_date['DAILY_ENTRIES'].groupby('DATE').sum().plot(title=\"Daily Entries\")"
   ]
  }
 ],
 "metadata": {
  "kernelspec": {
   "display_name": "Python 3",
   "language": "python",
   "name": "python3"
  },
  "language_info": {
   "codemirror_mode": {
    "name": "ipython",
    "version": 3
   },
   "file_extension": ".py",
   "mimetype": "text/x-python",
   "name": "python",
   "nbconvert_exporter": "python",
   "pygments_lexer": "ipython3",
   "version": "3.7.6"
  },
  "varInspector": {
   "cols": {
    "lenName": 16,
    "lenType": 16,
    "lenVar": 40
   },
   "kernels_config": {
    "python": {
     "delete_cmd_postfix": "",
     "delete_cmd_prefix": "del ",
     "library": "var_list.py",
     "varRefreshCmd": "print(var_dic_list())"
    },
    "r": {
     "delete_cmd_postfix": ") ",
     "delete_cmd_prefix": "rm(",
     "library": "var_list.r",
     "varRefreshCmd": "cat(var_dic_list()) "
    }
   },
   "types_to_exclude": [
    "module",
    "function",
    "builtin_function_or_method",
    "instance",
    "_Feature"
   ],
   "window_display": false
  }
 },
 "nbformat": 4,
 "nbformat_minor": 4
}
